{
 "cells": [
  {
   "cell_type": "code",
   "execution_count": 14,
   "id": "30c048ce",
   "metadata": {},
   "outputs": [],
   "source": [
    "import pandas as pd\n",
    "import numpy as np\n",
    "import matplotlib.pyplot as plt\n",
    "import seaborn as sns\n",
    "import spotipy\n",
    "import os\n",
    "%matplotlib inline"
   ]
  },
  {
   "cell_type": "code",
   "execution_count": 15,
   "id": "f7dab70b",
   "metadata": {},
   "outputs": [],
   "source": [
    "import spotipy\n",
    "from spotipy.oauth2 import SpotifyOAuth\n",
    "\n",
    "sp = spotipy.Spotify(auth_manager=SpotifyOAuth(client_id=\"7d5ede6ea9ab45f3a1a1aa306d0af96e\",\n",
    "                                                client_secret=\"9fd006c64dbe4debbe10bd3b34f0f83f\",\n",
    "                                                redirect_uri=\"http://localhost:5040/callback\",\n",
    "                                                scope=[\"user-library-read\", \"user-read-private\"]))\n",
    "\n"
   ]
  },
  {
   "cell_type": "code",
   "execution_count": 16,
   "id": "add5fab2",
   "metadata": {},
   "outputs": [
    {
     "ename": "PermissionError",
     "evalue": "[WinError 10013] An attempt was made to access a socket in a way forbidden by its access permissions",
     "output_type": "error",
     "traceback": [
      "\u001b[1;31m---------------------------------------------------------------------------\u001b[0m",
      "\u001b[1;31mPermissionError\u001b[0m                           Traceback (most recent call last)",
      "\u001b[1;32m~\\AppData\\Local\\Temp\\ipykernel_8612\\91526500.py\u001b[0m in \u001b[0;36m<module>\u001b[1;34m\u001b[0m\n\u001b[1;32m----> 1\u001b[1;33m \u001b[0mresults\u001b[0m \u001b[1;33m=\u001b[0m \u001b[0msp\u001b[0m\u001b[1;33m.\u001b[0m\u001b[0msearch\u001b[0m\u001b[1;33m(\u001b[0m\u001b[0mq\u001b[0m\u001b[1;33m=\u001b[0m\u001b[1;34m\"Bollywood\"\u001b[0m\u001b[1;33m,\u001b[0m \u001b[0mtype\u001b[0m\u001b[1;33m=\u001b[0m\u001b[1;34m\"playlist\"\u001b[0m\u001b[1;33m,\u001b[0m \u001b[0mlimit\u001b[0m\u001b[1;33m=\u001b[0m\u001b[1;36m50\u001b[0m\u001b[1;33m)\u001b[0m\u001b[1;33m\u001b[0m\u001b[1;33m\u001b[0m\u001b[0m\n\u001b[0m\u001b[0;32m      2\u001b[0m \u001b[1;31m# tracks = results[\"tracks\"][\"items\"]\u001b[0m\u001b[1;33m\u001b[0m\u001b[1;33m\u001b[0m\u001b[0m\n\u001b[0;32m      3\u001b[0m \u001b[1;33m\u001b[0m\u001b[0m\n\u001b[0;32m      4\u001b[0m \u001b[1;31m# for track in tracks:\u001b[0m\u001b[1;33m\u001b[0m\u001b[1;33m\u001b[0m\u001b[0m\n\u001b[0;32m      5\u001b[0m \u001b[1;31m#     print(track[\"name\"], track[\"artists\"][0][\"name\"], track[\"album\"][\"name\"], track[\"id\"])\u001b[0m\u001b[1;33m\u001b[0m\u001b[1;33m\u001b[0m\u001b[0m\n",
      "\u001b[1;32m~\\anaconda3\\lib\\site-packages\\spotipy\\client.py\u001b[0m in \u001b[0;36msearch\u001b[1;34m(self, q, limit, offset, type, market)\u001b[0m\n\u001b[0;32m    583\u001b[0m                            \u001b[0mfrom_token\u001b[0m\u001b[1;33m.\u001b[0m\u001b[1;33m\u001b[0m\u001b[1;33m\u001b[0m\u001b[0m\n\u001b[0;32m    584\u001b[0m         \"\"\"\n\u001b[1;32m--> 585\u001b[1;33m         return self._get(\n\u001b[0m\u001b[0;32m    586\u001b[0m             \u001b[1;34m\"search\"\u001b[0m\u001b[1;33m,\u001b[0m \u001b[0mq\u001b[0m\u001b[1;33m=\u001b[0m\u001b[0mq\u001b[0m\u001b[1;33m,\u001b[0m \u001b[0mlimit\u001b[0m\u001b[1;33m=\u001b[0m\u001b[0mlimit\u001b[0m\u001b[1;33m,\u001b[0m \u001b[0moffset\u001b[0m\u001b[1;33m=\u001b[0m\u001b[0moffset\u001b[0m\u001b[1;33m,\u001b[0m \u001b[0mtype\u001b[0m\u001b[1;33m=\u001b[0m\u001b[0mtype\u001b[0m\u001b[1;33m,\u001b[0m \u001b[0mmarket\u001b[0m\u001b[1;33m=\u001b[0m\u001b[0mmarket\u001b[0m\u001b[1;33m\u001b[0m\u001b[1;33m\u001b[0m\u001b[0m\n\u001b[0;32m    587\u001b[0m         )\n",
      "\u001b[1;32m~\\anaconda3\\lib\\site-packages\\spotipy\\client.py\u001b[0m in \u001b[0;36m_get\u001b[1;34m(self, url, args, payload, **kwargs)\u001b[0m\n\u001b[0;32m    319\u001b[0m             \u001b[0mkwargs\u001b[0m\u001b[1;33m.\u001b[0m\u001b[0mupdate\u001b[0m\u001b[1;33m(\u001b[0m\u001b[0margs\u001b[0m\u001b[1;33m)\u001b[0m\u001b[1;33m\u001b[0m\u001b[1;33m\u001b[0m\u001b[0m\n\u001b[0;32m    320\u001b[0m \u001b[1;33m\u001b[0m\u001b[0m\n\u001b[1;32m--> 321\u001b[1;33m         \u001b[1;32mreturn\u001b[0m \u001b[0mself\u001b[0m\u001b[1;33m.\u001b[0m\u001b[0m_internal_call\u001b[0m\u001b[1;33m(\u001b[0m\u001b[1;34m\"GET\"\u001b[0m\u001b[1;33m,\u001b[0m \u001b[0murl\u001b[0m\u001b[1;33m,\u001b[0m \u001b[0mpayload\u001b[0m\u001b[1;33m,\u001b[0m \u001b[0mkwargs\u001b[0m\u001b[1;33m)\u001b[0m\u001b[1;33m\u001b[0m\u001b[1;33m\u001b[0m\u001b[0m\n\u001b[0m\u001b[0;32m    322\u001b[0m \u001b[1;33m\u001b[0m\u001b[0m\n\u001b[0;32m    323\u001b[0m     \u001b[1;32mdef\u001b[0m \u001b[0m_post\u001b[0m\u001b[1;33m(\u001b[0m\u001b[0mself\u001b[0m\u001b[1;33m,\u001b[0m \u001b[0murl\u001b[0m\u001b[1;33m,\u001b[0m \u001b[0margs\u001b[0m\u001b[1;33m=\u001b[0m\u001b[1;32mNone\u001b[0m\u001b[1;33m,\u001b[0m \u001b[0mpayload\u001b[0m\u001b[1;33m=\u001b[0m\u001b[1;32mNone\u001b[0m\u001b[1;33m,\u001b[0m \u001b[1;33m**\u001b[0m\u001b[0mkwargs\u001b[0m\u001b[1;33m)\u001b[0m\u001b[1;33m:\u001b[0m\u001b[1;33m\u001b[0m\u001b[1;33m\u001b[0m\u001b[0m\n",
      "\u001b[1;32m~\\anaconda3\\lib\\site-packages\\spotipy\\client.py\u001b[0m in \u001b[0;36m_internal_call\u001b[1;34m(self, method, url, payload, params)\u001b[0m\n\u001b[0;32m    243\u001b[0m         \u001b[1;32mif\u001b[0m \u001b[1;32mnot\u001b[0m \u001b[0murl\u001b[0m\u001b[1;33m.\u001b[0m\u001b[0mstartswith\u001b[0m\u001b[1;33m(\u001b[0m\u001b[1;34m\"http\"\u001b[0m\u001b[1;33m)\u001b[0m\u001b[1;33m:\u001b[0m\u001b[1;33m\u001b[0m\u001b[1;33m\u001b[0m\u001b[0m\n\u001b[0;32m    244\u001b[0m             \u001b[0murl\u001b[0m \u001b[1;33m=\u001b[0m \u001b[0mself\u001b[0m\u001b[1;33m.\u001b[0m\u001b[0mprefix\u001b[0m \u001b[1;33m+\u001b[0m \u001b[0murl\u001b[0m\u001b[1;33m\u001b[0m\u001b[1;33m\u001b[0m\u001b[0m\n\u001b[1;32m--> 245\u001b[1;33m         \u001b[0mheaders\u001b[0m \u001b[1;33m=\u001b[0m \u001b[0mself\u001b[0m\u001b[1;33m.\u001b[0m\u001b[0m_auth_headers\u001b[0m\u001b[1;33m(\u001b[0m\u001b[1;33m)\u001b[0m\u001b[1;33m\u001b[0m\u001b[1;33m\u001b[0m\u001b[0m\n\u001b[0m\u001b[0;32m    246\u001b[0m \u001b[1;33m\u001b[0m\u001b[0m\n\u001b[0;32m    247\u001b[0m         \u001b[1;32mif\u001b[0m \u001b[1;34m\"content_type\"\u001b[0m \u001b[1;32min\u001b[0m \u001b[0margs\u001b[0m\u001b[1;33m[\u001b[0m\u001b[1;34m\"params\"\u001b[0m\u001b[1;33m]\u001b[0m\u001b[1;33m:\u001b[0m\u001b[1;33m\u001b[0m\u001b[1;33m\u001b[0m\u001b[0m\n",
      "\u001b[1;32m~\\anaconda3\\lib\\site-packages\\spotipy\\client.py\u001b[0m in \u001b[0;36m_auth_headers\u001b[1;34m(self)\u001b[0m\n\u001b[0;32m    234\u001b[0m             \u001b[1;32mreturn\u001b[0m \u001b[1;33m{\u001b[0m\u001b[1;33m}\u001b[0m\u001b[1;33m\u001b[0m\u001b[1;33m\u001b[0m\u001b[0m\n\u001b[0;32m    235\u001b[0m         \u001b[1;32mtry\u001b[0m\u001b[1;33m:\u001b[0m\u001b[1;33m\u001b[0m\u001b[1;33m\u001b[0m\u001b[0m\n\u001b[1;32m--> 236\u001b[1;33m             \u001b[0mtoken\u001b[0m \u001b[1;33m=\u001b[0m \u001b[0mself\u001b[0m\u001b[1;33m.\u001b[0m\u001b[0mauth_manager\u001b[0m\u001b[1;33m.\u001b[0m\u001b[0mget_access_token\u001b[0m\u001b[1;33m(\u001b[0m\u001b[0mas_dict\u001b[0m\u001b[1;33m=\u001b[0m\u001b[1;32mFalse\u001b[0m\u001b[1;33m)\u001b[0m\u001b[1;33m\u001b[0m\u001b[1;33m\u001b[0m\u001b[0m\n\u001b[0m\u001b[0;32m    237\u001b[0m         \u001b[1;32mexcept\u001b[0m \u001b[0mTypeError\u001b[0m\u001b[1;33m:\u001b[0m\u001b[1;33m\u001b[0m\u001b[1;33m\u001b[0m\u001b[0m\n\u001b[0;32m    238\u001b[0m             \u001b[0mtoken\u001b[0m \u001b[1;33m=\u001b[0m \u001b[0mself\u001b[0m\u001b[1;33m.\u001b[0m\u001b[0mauth_manager\u001b[0m\u001b[1;33m.\u001b[0m\u001b[0mget_access_token\u001b[0m\u001b[1;33m(\u001b[0m\u001b[1;33m)\u001b[0m\u001b[1;33m\u001b[0m\u001b[1;33m\u001b[0m\u001b[0m\n",
      "\u001b[1;32m~\\anaconda3\\lib\\site-packages\\spotipy\\oauth2.py\u001b[0m in \u001b[0;36mget_access_token\u001b[1;34m(self, code, as_dict, check_cache)\u001b[0m\n\u001b[0;32m    533\u001b[0m         payload = {\n\u001b[0;32m    534\u001b[0m             \u001b[1;34m\"redirect_uri\"\u001b[0m\u001b[1;33m:\u001b[0m \u001b[0mself\u001b[0m\u001b[1;33m.\u001b[0m\u001b[0mredirect_uri\u001b[0m\u001b[1;33m,\u001b[0m\u001b[1;33m\u001b[0m\u001b[1;33m\u001b[0m\u001b[0m\n\u001b[1;32m--> 535\u001b[1;33m             \u001b[1;34m\"code\"\u001b[0m\u001b[1;33m:\u001b[0m \u001b[0mcode\u001b[0m \u001b[1;32mor\u001b[0m \u001b[0mself\u001b[0m\u001b[1;33m.\u001b[0m\u001b[0mget_auth_response\u001b[0m\u001b[1;33m(\u001b[0m\u001b[1;33m)\u001b[0m\u001b[1;33m,\u001b[0m\u001b[1;33m\u001b[0m\u001b[1;33m\u001b[0m\u001b[0m\n\u001b[0m\u001b[0;32m    536\u001b[0m             \u001b[1;34m\"grant_type\"\u001b[0m\u001b[1;33m:\u001b[0m \u001b[1;34m\"authorization_code\"\u001b[0m\u001b[1;33m,\u001b[0m\u001b[1;33m\u001b[0m\u001b[1;33m\u001b[0m\u001b[0m\n\u001b[0;32m    537\u001b[0m         }\n",
      "\u001b[1;32m~\\anaconda3\\lib\\site-packages\\spotipy\\oauth2.py\u001b[0m in \u001b[0;36mget_auth_response\u001b[1;34m(self, open_browser)\u001b[0m\n\u001b[0;32m    488\u001b[0m             \u001b[1;31m# Only start a local http server if a port is specified\u001b[0m\u001b[1;33m\u001b[0m\u001b[1;33m\u001b[0m\u001b[0m\n\u001b[0;32m    489\u001b[0m             \u001b[1;32mif\u001b[0m \u001b[0mredirect_port\u001b[0m\u001b[1;33m:\u001b[0m\u001b[1;33m\u001b[0m\u001b[1;33m\u001b[0m\u001b[0m\n\u001b[1;32m--> 490\u001b[1;33m                 \u001b[1;32mreturn\u001b[0m \u001b[0mself\u001b[0m\u001b[1;33m.\u001b[0m\u001b[0m_get_auth_response_local_server\u001b[0m\u001b[1;33m(\u001b[0m\u001b[0mredirect_port\u001b[0m\u001b[1;33m)\u001b[0m\u001b[1;33m\u001b[0m\u001b[1;33m\u001b[0m\u001b[0m\n\u001b[0m\u001b[0;32m    491\u001b[0m             \u001b[1;32melse\u001b[0m\u001b[1;33m:\u001b[0m\u001b[1;33m\u001b[0m\u001b[1;33m\u001b[0m\u001b[0m\n\u001b[0;32m    492\u001b[0m                 logger.warning('Using `%s` as redirect URI without a port. '\n",
      "\u001b[1;32m~\\anaconda3\\lib\\site-packages\\spotipy\\oauth2.py\u001b[0m in \u001b[0;36m_get_auth_response_local_server\u001b[1;34m(self, redirect_port)\u001b[0m\n\u001b[0;32m    455\u001b[0m \u001b[1;33m\u001b[0m\u001b[0m\n\u001b[0;32m    456\u001b[0m     \u001b[1;32mdef\u001b[0m \u001b[0m_get_auth_response_local_server\u001b[0m\u001b[1;33m(\u001b[0m\u001b[0mself\u001b[0m\u001b[1;33m,\u001b[0m \u001b[0mredirect_port\u001b[0m\u001b[1;33m)\u001b[0m\u001b[1;33m:\u001b[0m\u001b[1;33m\u001b[0m\u001b[1;33m\u001b[0m\u001b[0m\n\u001b[1;32m--> 457\u001b[1;33m         \u001b[0mserver\u001b[0m \u001b[1;33m=\u001b[0m \u001b[0mstart_local_http_server\u001b[0m\u001b[1;33m(\u001b[0m\u001b[0mredirect_port\u001b[0m\u001b[1;33m)\u001b[0m\u001b[1;33m\u001b[0m\u001b[1;33m\u001b[0m\u001b[0m\n\u001b[0m\u001b[0;32m    458\u001b[0m         \u001b[0mself\u001b[0m\u001b[1;33m.\u001b[0m\u001b[0m_open_auth_url\u001b[0m\u001b[1;33m(\u001b[0m\u001b[1;33m)\u001b[0m\u001b[1;33m\u001b[0m\u001b[1;33m\u001b[0m\u001b[0m\n\u001b[0;32m    459\u001b[0m         \u001b[0mserver\u001b[0m\u001b[1;33m.\u001b[0m\u001b[0mhandle_request\u001b[0m\u001b[1;33m(\u001b[0m\u001b[1;33m)\u001b[0m\u001b[1;33m\u001b[0m\u001b[1;33m\u001b[0m\u001b[0m\n",
      "\u001b[1;32m~\\anaconda3\\lib\\site-packages\\spotipy\\oauth2.py\u001b[0m in \u001b[0;36mstart_local_http_server\u001b[1;34m(port, handler)\u001b[0m\n\u001b[0;32m   1301\u001b[0m \u001b[1;33m\u001b[0m\u001b[0m\n\u001b[0;32m   1302\u001b[0m \u001b[1;32mdef\u001b[0m \u001b[0mstart_local_http_server\u001b[0m\u001b[1;33m(\u001b[0m\u001b[0mport\u001b[0m\u001b[1;33m,\u001b[0m \u001b[0mhandler\u001b[0m\u001b[1;33m=\u001b[0m\u001b[0mRequestHandler\u001b[0m\u001b[1;33m)\u001b[0m\u001b[1;33m:\u001b[0m\u001b[1;33m\u001b[0m\u001b[1;33m\u001b[0m\u001b[0m\n\u001b[1;32m-> 1303\u001b[1;33m     \u001b[0mserver\u001b[0m \u001b[1;33m=\u001b[0m \u001b[0mHTTPServer\u001b[0m\u001b[1;33m(\u001b[0m\u001b[1;33m(\u001b[0m\u001b[1;34m\"127.0.0.1\"\u001b[0m\u001b[1;33m,\u001b[0m \u001b[0mport\u001b[0m\u001b[1;33m)\u001b[0m\u001b[1;33m,\u001b[0m \u001b[0mhandler\u001b[0m\u001b[1;33m)\u001b[0m\u001b[1;33m\u001b[0m\u001b[1;33m\u001b[0m\u001b[0m\n\u001b[0m\u001b[0;32m   1304\u001b[0m     \u001b[0mserver\u001b[0m\u001b[1;33m.\u001b[0m\u001b[0mallow_reuse_address\u001b[0m \u001b[1;33m=\u001b[0m \u001b[1;32mTrue\u001b[0m\u001b[1;33m\u001b[0m\u001b[1;33m\u001b[0m\u001b[0m\n\u001b[0;32m   1305\u001b[0m     \u001b[0mserver\u001b[0m\u001b[1;33m.\u001b[0m\u001b[0mauth_code\u001b[0m \u001b[1;33m=\u001b[0m \u001b[1;32mNone\u001b[0m\u001b[1;33m\u001b[0m\u001b[1;33m\u001b[0m\u001b[0m\n",
      "\u001b[1;32m~\\anaconda3\\lib\\socketserver.py\u001b[0m in \u001b[0;36m__init__\u001b[1;34m(self, server_address, RequestHandlerClass, bind_and_activate)\u001b[0m\n\u001b[0;32m    450\u001b[0m         \u001b[1;32mif\u001b[0m \u001b[0mbind_and_activate\u001b[0m\u001b[1;33m:\u001b[0m\u001b[1;33m\u001b[0m\u001b[1;33m\u001b[0m\u001b[0m\n\u001b[0;32m    451\u001b[0m             \u001b[1;32mtry\u001b[0m\u001b[1;33m:\u001b[0m\u001b[1;33m\u001b[0m\u001b[1;33m\u001b[0m\u001b[0m\n\u001b[1;32m--> 452\u001b[1;33m                 \u001b[0mself\u001b[0m\u001b[1;33m.\u001b[0m\u001b[0mserver_bind\u001b[0m\u001b[1;33m(\u001b[0m\u001b[1;33m)\u001b[0m\u001b[1;33m\u001b[0m\u001b[1;33m\u001b[0m\u001b[0m\n\u001b[0m\u001b[0;32m    453\u001b[0m                 \u001b[0mself\u001b[0m\u001b[1;33m.\u001b[0m\u001b[0mserver_activate\u001b[0m\u001b[1;33m(\u001b[0m\u001b[1;33m)\u001b[0m\u001b[1;33m\u001b[0m\u001b[1;33m\u001b[0m\u001b[0m\n\u001b[0;32m    454\u001b[0m             \u001b[1;32mexcept\u001b[0m\u001b[1;33m:\u001b[0m\u001b[1;33m\u001b[0m\u001b[1;33m\u001b[0m\u001b[0m\n",
      "\u001b[1;32m~\\anaconda3\\lib\\http\\server.py\u001b[0m in \u001b[0;36mserver_bind\u001b[1;34m(self)\u001b[0m\n\u001b[0;32m    134\u001b[0m     \u001b[1;32mdef\u001b[0m \u001b[0mserver_bind\u001b[0m\u001b[1;33m(\u001b[0m\u001b[0mself\u001b[0m\u001b[1;33m)\u001b[0m\u001b[1;33m:\u001b[0m\u001b[1;33m\u001b[0m\u001b[1;33m\u001b[0m\u001b[0m\n\u001b[0;32m    135\u001b[0m         \u001b[1;34m\"\"\"Override server_bind to store the server name.\"\"\"\u001b[0m\u001b[1;33m\u001b[0m\u001b[1;33m\u001b[0m\u001b[0m\n\u001b[1;32m--> 136\u001b[1;33m         \u001b[0msocketserver\u001b[0m\u001b[1;33m.\u001b[0m\u001b[0mTCPServer\u001b[0m\u001b[1;33m.\u001b[0m\u001b[0mserver_bind\u001b[0m\u001b[1;33m(\u001b[0m\u001b[0mself\u001b[0m\u001b[1;33m)\u001b[0m\u001b[1;33m\u001b[0m\u001b[1;33m\u001b[0m\u001b[0m\n\u001b[0m\u001b[0;32m    137\u001b[0m         \u001b[0mhost\u001b[0m\u001b[1;33m,\u001b[0m \u001b[0mport\u001b[0m \u001b[1;33m=\u001b[0m \u001b[0mself\u001b[0m\u001b[1;33m.\u001b[0m\u001b[0mserver_address\u001b[0m\u001b[1;33m[\u001b[0m\u001b[1;33m:\u001b[0m\u001b[1;36m2\u001b[0m\u001b[1;33m]\u001b[0m\u001b[1;33m\u001b[0m\u001b[1;33m\u001b[0m\u001b[0m\n\u001b[0;32m    138\u001b[0m         \u001b[0mself\u001b[0m\u001b[1;33m.\u001b[0m\u001b[0mserver_name\u001b[0m \u001b[1;33m=\u001b[0m \u001b[0msocket\u001b[0m\u001b[1;33m.\u001b[0m\u001b[0mgetfqdn\u001b[0m\u001b[1;33m(\u001b[0m\u001b[0mhost\u001b[0m\u001b[1;33m)\u001b[0m\u001b[1;33m\u001b[0m\u001b[1;33m\u001b[0m\u001b[0m\n",
      "\u001b[1;32m~\\anaconda3\\lib\\socketserver.py\u001b[0m in \u001b[0;36mserver_bind\u001b[1;34m(self)\u001b[0m\n\u001b[0;32m    464\u001b[0m         \u001b[1;32mif\u001b[0m \u001b[0mself\u001b[0m\u001b[1;33m.\u001b[0m\u001b[0mallow_reuse_address\u001b[0m\u001b[1;33m:\u001b[0m\u001b[1;33m\u001b[0m\u001b[1;33m\u001b[0m\u001b[0m\n\u001b[0;32m    465\u001b[0m             \u001b[0mself\u001b[0m\u001b[1;33m.\u001b[0m\u001b[0msocket\u001b[0m\u001b[1;33m.\u001b[0m\u001b[0msetsockopt\u001b[0m\u001b[1;33m(\u001b[0m\u001b[0msocket\u001b[0m\u001b[1;33m.\u001b[0m\u001b[0mSOL_SOCKET\u001b[0m\u001b[1;33m,\u001b[0m \u001b[0msocket\u001b[0m\u001b[1;33m.\u001b[0m\u001b[0mSO_REUSEADDR\u001b[0m\u001b[1;33m,\u001b[0m \u001b[1;36m1\u001b[0m\u001b[1;33m)\u001b[0m\u001b[1;33m\u001b[0m\u001b[1;33m\u001b[0m\u001b[0m\n\u001b[1;32m--> 466\u001b[1;33m         \u001b[0mself\u001b[0m\u001b[1;33m.\u001b[0m\u001b[0msocket\u001b[0m\u001b[1;33m.\u001b[0m\u001b[0mbind\u001b[0m\u001b[1;33m(\u001b[0m\u001b[0mself\u001b[0m\u001b[1;33m.\u001b[0m\u001b[0mserver_address\u001b[0m\u001b[1;33m)\u001b[0m\u001b[1;33m\u001b[0m\u001b[1;33m\u001b[0m\u001b[0m\n\u001b[0m\u001b[0;32m    467\u001b[0m         \u001b[0mself\u001b[0m\u001b[1;33m.\u001b[0m\u001b[0mserver_address\u001b[0m \u001b[1;33m=\u001b[0m \u001b[0mself\u001b[0m\u001b[1;33m.\u001b[0m\u001b[0msocket\u001b[0m\u001b[1;33m.\u001b[0m\u001b[0mgetsockname\u001b[0m\u001b[1;33m(\u001b[0m\u001b[1;33m)\u001b[0m\u001b[1;33m\u001b[0m\u001b[1;33m\u001b[0m\u001b[0m\n\u001b[0;32m    468\u001b[0m \u001b[1;33m\u001b[0m\u001b[0m\n",
      "\u001b[1;31mPermissionError\u001b[0m: [WinError 10013] An attempt was made to access a socket in a way forbidden by its access permissions"
     ]
    }
   ],
   "source": [
    "results = sp.search(q=\"Bollywood\", type=\"playlist\", limit=50)\n",
    "# tracks = results[\"tracks\"][\"items\"]\n",
    "\n",
    "# for track in tracks:\n",
    "#     print(track[\"name\"], track[\"artists\"][0][\"name\"], track[\"album\"][\"name\"], track[\"id\"])"
   ]
  },
  {
   "cell_type": "code",
   "execution_count": 7,
   "id": "00e44eb4",
   "metadata": {},
   "outputs": [
    {
     "ename": "NameError",
     "evalue": "name 'results' is not defined",
     "output_type": "error",
     "traceback": [
      "\u001b[1;31m---------------------------------------------------------------------------\u001b[0m",
      "\u001b[1;31mNameError\u001b[0m                                 Traceback (most recent call last)",
      "\u001b[1;32m~\\AppData\\Local\\Temp\\ipykernel_8612\\4040403587.py\u001b[0m in \u001b[0;36m<module>\u001b[1;34m\u001b[0m\n\u001b[1;32m----> 1\u001b[1;33m \u001b[0mplaylists\u001b[0m \u001b[1;33m=\u001b[0m \u001b[0mresults\u001b[0m\u001b[1;33m[\u001b[0m\u001b[1;34m'playlists'\u001b[0m\u001b[1;33m]\u001b[0m\u001b[1;33m[\u001b[0m\u001b[1;34m'items'\u001b[0m\u001b[1;33m]\u001b[0m\u001b[1;33m\u001b[0m\u001b[1;33m\u001b[0m\u001b[0m\n\u001b[0m\u001b[0;32m      2\u001b[0m \u001b[0mlst\u001b[0m \u001b[1;33m=\u001b[0m \u001b[1;33m[\u001b[0m\u001b[1;33m]\u001b[0m\u001b[1;33m\u001b[0m\u001b[1;33m\u001b[0m\u001b[0m\n\u001b[0;32m      3\u001b[0m \u001b[1;32mfor\u001b[0m \u001b[0mplays\u001b[0m \u001b[1;32min\u001b[0m \u001b[0mplaylists\u001b[0m\u001b[1;33m:\u001b[0m\u001b[1;33m\u001b[0m\u001b[1;33m\u001b[0m\u001b[0m\n\u001b[0;32m      4\u001b[0m     \u001b[0mprint\u001b[0m\u001b[1;33m(\u001b[0m\u001b[0mplays\u001b[0m\u001b[1;33m[\u001b[0m\u001b[1;34m'name'\u001b[0m\u001b[1;33m]\u001b[0m\u001b[1;33m,\u001b[0m\u001b[0mplays\u001b[0m\u001b[1;33m[\u001b[0m\u001b[1;34m'uri'\u001b[0m\u001b[1;33m]\u001b[0m\u001b[1;33m.\u001b[0m\u001b[0msplit\u001b[0m\u001b[1;33m(\u001b[0m\u001b[1;34m':'\u001b[0m\u001b[1;33m)\u001b[0m\u001b[1;33m[\u001b[0m\u001b[1;33m-\u001b[0m\u001b[1;36m1\u001b[0m\u001b[1;33m]\u001b[0m\u001b[1;33m)\u001b[0m\u001b[1;33m\u001b[0m\u001b[1;33m\u001b[0m\u001b[0m\n\u001b[0;32m      5\u001b[0m     \u001b[0mlst\u001b[0m\u001b[1;33m.\u001b[0m\u001b[0mappend\u001b[0m\u001b[1;33m(\u001b[0m\u001b[0mplays\u001b[0m\u001b[1;33m[\u001b[0m\u001b[1;34m'uri'\u001b[0m\u001b[1;33m]\u001b[0m\u001b[1;33m.\u001b[0m\u001b[0msplit\u001b[0m\u001b[1;33m(\u001b[0m\u001b[1;34m':'\u001b[0m\u001b[1;33m)\u001b[0m\u001b[1;33m[\u001b[0m\u001b[1;33m-\u001b[0m\u001b[1;36m1\u001b[0m\u001b[1;33m]\u001b[0m\u001b[1;33m)\u001b[0m\u001b[1;33m\u001b[0m\u001b[1;33m\u001b[0m\u001b[0m\n",
      "\u001b[1;31mNameError\u001b[0m: name 'results' is not defined"
     ]
    }
   ],
   "source": [
    "playlists = results['playlists']['items']\n",
    "lst = []\n",
    "for plays in playlists:\n",
    "    print(plays['name'],plays['uri'].split(':')[-1])\n",
    "    lst.append(plays['uri'].split(':')[-1])\n",
    "    \n",
    "print(lst)"
   ]
  },
  {
   "cell_type": "code",
   "execution_count": 22,
   "id": "09562d58",
   "metadata": {},
   "outputs": [],
   "source": [
    "indian_songs_keywords = [\n",
    "    \"indian music\",\n",
    "    \"Bollywood\",\n",
    "    \"hindi songs\",\n",
    "    \"top indian\",\n",
    "    \"popular indian\",\n",
    "    \"indian hits\",\n",
    "    \"latest indian\",\n",
    "    \"indian playlist\",\n",
    "    \"indian classics\",\n",
    "    \"indian contemporary\",\n",
    "    \"indian chart-toppers\",\n",
    "    \"indian new releases\",\n",
    "    \"indian must-listen\",\n",
    "    \"indian iconic\",\n",
    "    \"indian timeless\",\n",
    "    \"indian popular\",\n",
    "    \"indian best-of\",\n",
    "    \"indian hot\",\n",
    "    \"indian top picks\"\n",
    "]\n",
    "\n",
    "punjabi_songs_keywords = [\n",
    "    \"punjabi music\",\n",
    "    \"punjabi songs\",\n",
    "    \"top punjabi\",\n",
    "    \"popular punjabi\",\n",
    "    \"punjabi hits\",\n",
    "    \"latest punjabi\",\n",
    "    \"punjabi playlist\",\n",
    "    \"punjabi classics\",\n",
    "    \"punjabi contemporary\",\n",
    "    \"punjabi chart-toppers\",\n",
    "    \"punjabi new releases\",\n",
    "    \"punjabi must-listen\",\n",
    "    \"punjabi iconic\",\n",
    "    \"punjabi timeless\",\n",
    "    \"punjabi popular\",\n",
    "    \"punjabi best-of\",\n",
    "    \"punjabi hot\",\n",
    "    \"punjabi top picks\"\n",
    "]\n"
   ]
  },
  {
   "cell_type": "code",
   "execution_count": 50,
   "id": "51579315",
   "metadata": {},
   "outputs": [
    {
     "name": "stdout",
     "output_type": "stream",
     "text": [
      "['Indian Music Mix', 'Soulful Indian Music', 'Trending Now India', 'Chill Indian Music', 'Indian Classical Fusion Chill', 'Indian Pop Music (90s-00s)', 'indian yoga music', 'Indian Instrumentals', 'Indian Study Music - Instrumentals', 'Indian Indie Mix', 'Indian Music : Ancient Love', '2000s indian music', 'Indian Classical', 'Indian Classical Music For Studying', 'Feelgood Romantic Indian music', 'Wedding Indian Music Mix', \"KSW's Indian lofi / chill music playlist\", 'Best Indian Lofi Hits', 'Dance Indian Music Mix', 'Workout Indian Music Mix', 'Indian Music', 'Indian Instrumental Mix', 'Best of MTV Unplugged India', 'Calm Indian Music', 'Indian Carnatic Music', 'Indie India ', 'sad indian music :(', 'Romantic Indian Songs 2022', 'Hindustani Instrumental', 'Indian Lo-Fi Mix', 'Indian Music & Hindi Music', 'RADAR India', 'Indian EDM', 'Indian Music', 'Indian Music Sitar Mix', 'Bollywood Dance Music', 'Relaxing Indian Flute Music', 'Traditional Indian Music', 'Relaxing Indian Music', 'Folk in India', 'Carnatic Instrumental', 'Raga Lounge', 'Bollywood Folk', 'Hindustani Classical', 'EDM in India', 'Healing Ragas', 'Música Indiana Instrumental', 'India 101', 'Indian Chill', 'Indipop Nostalgia', 'All time Best BOLLYWOOD songs', 'Bollywood Party 2023 🔥', 'Bollywood Love Songs | Desi Romantic Hits 2023', 'Lofi Songs (Bollywood ) ❤️😌', 'Bollywood Mush', 'Bollywood Item Songs (Old & New)', 'Old is Gold - Retro Bollywood', 'MASHUP HITS BOLLYWOOD', 'Bollywood Butter', 'classical bollywood', 'Bollywood Sad Songs', 'Bollywood Mix', 'Saddest songs of Bollywood 💔🥺', 'Popular Bollywood Songs', 'BOLLYWOOD HITS 2010- 2022', 'Bollywood night club', 'love songs BOLLYWOOD', 'Bollywood  Melody Hits', 'Bollywood 2010 - 2015', 'Bollywood Romance Top 100+ Songs...', ' New Songs Bollywood Hindi 2023 🙏', 'Seductive × Bollywood 🔥', 'Bollywood Dance Music', 'Bollywood Road Trip', \"Bollywood 90's Evergreen Songs \", 'Bollywood wedding dance songs', 'Bollywood Item Songs 💃', 'BOLLYWOOD PARTY SONGS PLAYLIST 🎉!!', 'Bollywood Dance Songs', 'Sufi & Bollywood', 'Bollywood Folk', 'All time bollywood party hits', 'bollywood dance hits 2000 - 2018', 'Bollywood Sundowner', 'Bollywood Ragas', 'Band Baaja Bollywood', 'Bollywood Araby', 'Bollywood Acoustic', 'Bollywood Themes', 'Kollywood Cream', 'Bollywood 2.O', 'Best of Bollywood 2000s', 'Bollywood Jazz', 'Bollywood R&B', 'Bollywood Rock', 'Bollywood Zumba', 'Best of Bollywood Party Songs', 'Bollywood Workout', 'Kollywood Hunks', 'Bollywood Instrumental Music ', 'Hindi songs (best of 2000-2023)', 'Hindi Romantic All Time Hits ❤️', \"Trending Valentine's Hits \", 'Top Hits Hindi Songs 2022', 'Hindi Chill songs', 'Hot Hits Hindi', 'Pushpa songs in hindi', 'Sad Song Hindi - Emotional Songs 💔🚫', 'Hindi songs (love + sad + slow + lofi + old)', 'All Out 90s Hindi', 'Hindi songs when you miss someone 💔', 'Hot Hindi Hits 2010-2020', 'Top Old Hindi songs', 'NEW HINDI TRENDING SONGS | NEW RELEASE #2023💃', 'Hindi Songs', 'Hindi songs for shower💙🚿', 'Travel songs (hindi)', 'Hindi Songs - Fast Beat', 'HINDI SONGS', 'All Out 00s Hindi', 'Hindi songs 🔥', 'HINDI❤️ MELODY ❤️ SONGS🎶🎧', 'Hindi Songs🇮🇳', 'Sad Hindi Songs - a little broken 🥺', 'Hindi songs-all time hits', 'Hindi Songs 🎶', 'Party Hits Hindi | Dance Songs', 'hindi songs my family loves', 'hindi songs to dance to ', 'All Out 80s Hindi', 'Sad Hindi Melodies', '90s Romance Rewind', 'Hindi songs trending', 'hindi songs ', 'Hindi Love Songs', 'Hindi Songs!!!', ' New Songs Bollywood Hindi 2023 🙏', 'Hindi Dj Songs', 'Hindi Evergreen Old Songs', 'Top Hindi Tracks of 2021', 'All Out 70s Hindi', 'Hindi mashup songs', \"Valentine's Day Tamil\", 'All Out 50s Hindi', 'Gold Spot', 'hIndies', 'Hindi Gym pump songs', 'Band Baaja Bollywood', 'New Music Hindi', 'Starring Salman Khan', 'Trending Now India', 'Top 50 - India', 'Top Indian Songs ', 'Hot Hits Hindi', 'Top Indian raps', 'Top Indian Hits❤️', 'best romantic songs from top indian singers', 'Bollywood Romance Top 100+ Songs...', 'Indian Top Hits', 'Top Trending India', 'Desi Hits', 'Top songs India 2022', 'Top Gaming Tracks India', 'Top South Indian Songs', 'Top 10 indian artists', 'Top 100 most streamed songs on Spotify *Updated*', 'Top Indian Bgms | Hit Themes | Ost', 'Top South Indian Hits', 'Top Indian Party Dance Hits 2022', 'Top South Indian BGM', 'INDIAN RAPPERS 2022', 'Hot Hits India', 'RAP 91', 'Top 100 INDIAN Most Viewed Songs', 'Indian Rap-Desi Hip Hop 💸', 'Top Indian Hip Hop', 'Fusion - Indian (Hindi) & English Top Songs', 'Yo Yo Honey Singh All Songs', 'Top Indian Rap songs', 'PARTY SONG', 'Trending Now Tamil', 'TOP Tamil Love Hits', 'A.R.Rahman Top 100 TAMIL songs', 'Indie India ', 'I-Pop Superhits', 'Kishore Kumar Top 100', 'Trending Now Punjabi', 'Hot Hits Telugu', 'RADAR India', 'Bollywood Dance Music', 'Top Hindi Tracks of 2021', 'Hot Hits Tamil', 'Hot Hits India Presents Hottest Songs of 2021', 'hIndies', 'New in Dance', 'Desi Indie ', 'Dance Duets', 'Guyana’s  Top Indian Chunes', 'mint India', 'Indipop Nostalgia', 'Trending Now India', 'Popular Indian Songs', 'Latest Popular DJ SONGS Hindi/Indian (2022)', 'Indian Songs 2023 - Popular Indian Songs 2023 - Best Indian Songs 2023 - Famous Indian Songs 2023', 'Popular Indian English Songs (Indian Artist) ', 'english popular songs by indian', 'South Indian Popular Songs', 'Popular (hindi) love', 'Desi Hip Hop', 'Most Popular Indian Music', 'Top Popular Indian Songs  ♪ ', \"Trending Valentine's Hits \", 'Hot Hits Hindi', 'Gulzaar Chhaniwala All Songs', \"Tinder India's Hottest 100 Dating Anthems\", 'Bollywood Chill', 'Popular Movies- Indian', 'Desi Hits', 'Sing Along (Hindi - Bollywood)', 'Trending Now Tamil', 'Indian songs hindi playlist', 'SANAM Renditions on Spotify', 'South Indian (popular)', 'Best Of Jagjit Singh Ghazals', 'Indie India ', 'Yuvraj - Indian : New - Popular Songs & Musics', 'Bollywood Dance Music', \"Indian Remix's\", 'RedisCover', 'Indian Songs 🇮🇳🛕', 'bollywood item songs', 'Regional Party Hits - Hindi Tamil Malayalam', 'I-Pop Superhits', 'Hot Hits India', 'RADAR India', 'Desi Indie ', 'Folk in India', 'Top Gaming Tracks India', 'Top Hindi Tracks of 2021', 'I-Pop Mohabbat ', 'mint India', 'Indipop Nostalgia', 'Hot Hits India Presents Hottest Songs of 2021', 'Bollywood Folk', 'India 101', 'Indian Classical', 'Legends of Indie India', 'Bollywood Ragas', \"Indian Spirit '23 Hype\", 'Hindustani Classical', 'Trending Now India', 'India hits all time', 'Top 50 - India', '2022 Indian Hits', 'Hot Hits Hindi', 'Top Indian Hits❤️', 'South Indian Hits', 'INDIAN PARTY HITS', 'Best Indian Lofi Hits', 'Best of Indian Hits', 'Bollywood Love Songs | Best Hindi Romantic & Indian Hits', 'Indian Pop Hits', 'Desi Hits', 'Bollywood Party Songs | Best Indian/Desi Dance Hits', 'Latest South Indian Hits', 'Indie Tunes | Best Indie Hits', 'Trending Hits India', 'Indian English hits', 'Hot Hits Malayalam', 'INDIAN DANCE SONGS 💃🏽💥🌟', 'Dance hits South Indian', 'Hot Hits India', 'Best Indian OTT Hits', 'Indian Hits 2021', 'Top South Indian Hits', 'Indian Wedding Songs | Desi Sangeet, Mendhi, Haldi Classic Hits', 'All Indian Hits ', 'Indian Hip Hop Hits', 'Indian Fast songs(Malayalam, Telugu, Hindi,Tamil Hits)', 'I-Pop Superhits', 'Web Series Hits', 'Best Punjabi Hits | Desi Dance & Party Songs 2023', 'Indie India ', 'Upendra all time hits', 'Indian Wedding', 'Trending Now Tamil', 'RADAR India', 'Hot Hits Telugu', 'Hot Hits Tamil', 'Priyanka Chopra hits💕', 'hIndies', 'Trending Now Punjabi', 'Bollywood Dance Music', 'Hot Hits India Presents Hottest Songs of 2021', 'Top Gaming Tracks India', 'New in Dance', 'Latest Kannada', 'Dillihood', 'This Is Diljit Dosanjh', 'Indipop Nostalgia', 'Trending Now India', 'Latest Indian Songs', 'LATEST  SOUTH INDIAN SONGS', 'NEW HINDI TRENDING SONGS | NEW RELEASE #2023💃', 'Latest South Indian Hits', 'Latest Indian Best Hits', 'Bollywood Romance Top 100+ Songs...', 'Latest Popular DJ SONGS Hindi/Indian (2022)', 'Latest fast Indian songs ', 'Indian Latest Mixed', 'Indian Rap Latest 2022', 'Latest Indian Songs', 'New in Dance', 'Top Indian Bgms | Hit Themes | Ost', 'New Music Hindi', 'Indian Songs 2023 - Popular Indian Songs 2023 - Best Indian Songs 2023 - Famous Indian Songs 2023', 'INDIAN RAPPERS 2022', 'Latest Hindi Songs 2023 Collection - New Hindi Music 2023 (New Hindi Songs Compilation 2023-2024)', 'Indian Underground Hip-Hop', 'Latest Indian 2k17', 'Latest indian songs', 'Best lOfI songs,Best Hindi LoFi songs', 'Best Romantic Songs | Sad Hits | Bollywood Romantic Hits | Love Hits Forever ', \"Trending Valentine's Hits \", 'Hot Hits Hindi', 'Top South Indian Hits', 'TOP Tamil Love Hits', 'Indian Latest Songs', 'Indie India ', 'Trending Now Tamil', 'New Hindi 2019-2022', 'Latest Dance Telugu', 'Pramod Premi Bhojpuri  Latest Songs', 'Desi Hits', 'Trending Now Punjabi', 'New Music Friday India', 'New Music Friday Hindi ', 'RADAR India', 'Trending Now Malayalam', 'Bollywood Dance Music', 'Latest Kannada', 'hIndies', 'Hot Hits India', 'Latest Romance Tamil', 'Latest Love Tunes', 'Latest Telugu', 'Latest Dance Tamil', 'Latest Romance Telugu', 'Latest Tamil', 'New Music Punjabi', 'Indian Playlist', 'Trending Now India', 'best indian playlist🙏🏽', 'INDIAN GYM BROS', 'DJ Indian playlist', 'the indian idol playlist', \"Indian Barbers' playlist\", 'Indian Wedding playlist 2022', 'Indian Wedding Mehndi Playlist', \"KSW's Indian lofi / chill music playlist\", 'Hum To Dube Hai | Indian Dancehall Songs', 'Indian Fast songs(Malayalam, Telugu, Hindi,Tamil Hits)', 'Instagram Reels India', 'INDIAN😍YOUTUBERS SONG', 'INDIAN RAPPERS 2022', 'Indian Hiphop', 'Top Indian Bgms | Hit Themes | Ost', 'Indian Patriotic songs', 'Playlist - INDIANA', 'Twisted-Indian-Playlist', 'Web Series Hits', 'EQUAL Indie India', 'English Gym Workout songs', 'Big-Fat Indian Wedding', 'Indian Wedding Sangeet Songs', 'Indie India ', 'Indian Carnatic Music', 'Bollywood Dance Music', 'RADAR India', 'Folk in India', 'This Is IndianRaga', 'IndiEnglish', 'This Is Indian Ocean', 'Indian Classical', 'Intro to Indian Lo-Fi', 'Raga Lounge', 'Electronic in India', 'This Is Apache Indian', 'India 101', 'Hindustani Instrumental', 'Indian Classical Music For Studying', 'EDM in India', 'Indian Chill', 'Indipop Nostalgia', 'Jazz in India', 'This Is Native Indian Flute', 'Spotify Singles : India ', 'This Is Indian Summer', 'This Is Indian Meditation', 'This Is Indiajiva', 'Chai & Classics', 'Indian classics', 'Indian Classical', 'Indian Sufi and classics', 'Instrumental Indian Classical', 'Indian Classics ', 'Indian classics', 'Indian classics', 'Indian classics', 'Old Indian Classics 🇮🇳', 'Indian classics!♥️', 'Hindustani Instrumental', 'Indian Classics', 'Indian classics', 'Indian Classical Music For Studying', 'indian classics', 'Indian classics', 'Hindustani Classical', 'INDIAN Classics', 'Indian Classics', 'Indian Classics', 'Indian Classics', 'Indian Pop Hits', 'Modern Indian Classics', 'Carnatic Instrumental', '70s Indian Classics', 'Raga Lounge', 'remix indian classics', 'Old Indian Classics ', 'Top South Indian Hits', 'Classical Gems', 'Anglo-Indian Classics', 'Healing Ragas', 'Indie India ', 'Hindi Dance Party (Bollywood Hindi Songs)', 'Gold Spot', 'Old is Gold', 'All Out 90s Hindi', 'Gramophone Classics', 'Desi Hits', 'Kolly Chill Out', 'Bollywood Dance Music', 'Indipop Nostalgia', 'Bollywood Ragas', 'Kollywood Ragas', \"80's Romance Hits\", 'This Is Arijit Singh', \"70's Romance Hits\", 'All Out 80s Hindi', '90s Swagger', 'Contemporary Indian ', 'Indian contemporary', 'Contemporary Romantic Indian', '🎻 Classical South Indian 🇮🇳 / Contemporary Carnatic Fusion Classiques  🎤🎸', 'Contemporary Indian', 'Indian Contemporary', 'Indian contemporary easy', 'Indian Contemporary', 'Indian Contemporary Cuts', '🇮🇳Contemporary Indian 🇮🇳', 'Eclectic // Contemporary Indian Fusion', 'Indian Contemporary', 'Contemporary Indian', 'Contemporary Indian', 'Shoonya Indian Contemporary', 'Contemporary Indian Folk Fusion', 'Contemporary Indian ', 'the contemporary indian subcontinent', 'Indian Folk/Classical', 'Indian Semiclassical Contemporary', 'Trending Now India', 'Contemporary Indian', 'Hindi 00s-10s', 'Indie India ', 'Jonita’s Indian Electronic Picks', 'Folk in India', 'Desi Indie ', 'Hot Hits Hindi', 'RADAR India', 'Desi Hits', 'Sahana bajpaie', 'British Indian', 'Bollywood Dance Music', 'hIndies', 'EQUAL India', 'Punjabi Pop', 'Sufi & Bollywood', 'Bollywood Acoustic', 'Hangover Cure', 'New in Dance', 'Legends of Indie India', 'Bollywood Folk', 'Indipop Nostalgia', 'Punjabi X', 'This Is Darshan Raval', 'Mollywood Gold', 'Tamil Indie', 'Hindustani Classical', 'New Music Hindi', 'Hip Te Hop', 'Trending Now India', 'Hot Hits Hindi', \"Trending Valentine's Hits \", 'Hot Hits India Presents Hottest Songs of 2021', 'Hot Hits India', 'RADAR India', 'Hot Hits India Presents: Hottest Songs of 2020', 'Top Hindi Tracks of 2021', 'Trending Now Tamil', 'Desi Hits', 'Indie India ', 'Trending Now Punjabi', 'I-Pop Superhits', '#GRWM Hindi', 'Hot Hits Punjabi', 'All Out 00s Hindi', 'Hot Hits Telugu', 'Top Gaming Tracks India', 'Trending Now Malayalam', 'mint India', 'hIndies', 'RAP 91', 'Bollywood Dance Music', 'Hot Hits Kannada ', 'Punjabi Pop', 'Indipop Nostalgia', 'Hot Hits Tamil', 'This Is Armaan Malik', 'India 101', \"00's Romance Hits\", 'Gold Spot', 'Top International Artists of 2020', 'House Party Hits', 'Come on India', 'New in Dance', 'Hot Hits Malayalam', 'Desi Hip Hop', 'Punjabi Bae ❤️', 'Punjabi X', 'This Is Arijit Singh', 'Dillihood', 'Bollywood 2.O', 'Party Chale On', 'Punjabi 101', 'Two Good: Alka Yagnik & Kumar Sanu', 'All Out 10s Tamil', 'Starring Emraan Hashmi', 'New Music Hindi', 'This is Badshah', 'Mega Punjabi Hits ', 'Trending Now India', 'Best Indian OTT Hits', 'Hot Hits Hindi', 'New in Dance', \"Trending Valentine's Hits \", 'New Music Friday Hindi ', 'New Music Friday India', 'Trending Now Tamil', 'RADAR India', 'Trending Now Punjabi', 'Indie India ', 'New Music Hindi', 'Desi Hits', 'Hot Hits Punjabi', 'hIndies', 'Hot Hits India', 'Hot Hits Telugu', 'souths', 'Hot Hits India Presents Hottest Songs of 2021', 'Bollywood Dance Music', 'Fresh Finds India', '#GRWM Hindi', 'mint India', 'Trending Now Malayalam', 'Latest Dance Telugu', 'Punjabi Pop', 'Latest Love Tunes', 'EQUAL India', 'I-Pop Superhits', 'Top Hindi Tracks of 2021', 'Hot Hits Tamil', 'Latest Romance Tamil', 'Safar Mix', 'Latest Telugu', 'Latest Tamil', 'New Music Punjabi', 'Taaza hai bro!', 'Tollywood Pearls', 'Punjabi X', 'Top EDM Songs Ever 2022 | Top EDM Hits Of All Time & Top EDM Classics (Future Techno, Top Drops, New EDM Releases, Indian EDM Hits, Electro Heat)', 'Party Chale On', 'Pakka Local', 'Trending Now Haryanvi', 'Latest Dance Tamil', 'Soulful Sid Sriram', 'Latest Romance Telugu', 'Sensational Sid Sriram', 'Latest Malayalam', 'Mega Punjabi Hits ', 'Latest Kannada', 'Trending Now India', 'Independent Indian artists that you must listen to..', \"Trending Valentine's Hits \", 'Hot Hits Hindi', 'Tamil Romance', 'Best Hindi Raps ever', 'Indie India ', 'Desi Hits', 'Trending Now Tamil', 'Hot Hits India Presents Hottest Songs of 2021', 'All Out 00s Hindi', 'Bollywood Dance Music', 'RADAR India', 'All Out 90s Hindi', 'Kolly Chill Out', 'Hot Hits India Presents: Hottest Songs of 2020', 'Bollywood Mush', 'Hot Hits India', 'I-Pop Superhits', 'Hot Hits Telugu', '#GRWM Hindi', 'Trending Now Punjabi', 'Chillnama', 'Gold Spot', 'Hot Hits Kannada ', 'Top Hindi Tracks of 2021', 'RAP 91', 'Punjabi Pop', \"00's Romance Hits\", 'EQUAL India', 'Winter of Love', 'Hot Hits Tamil', 'Top Gaming Tracks India', 'India 101', 'Come on India', 'New in Dance', 'Latest Love Tunes', 'Old is Gold', 'Tollywood Item', 'Indipop Nostalgia', 'Punjabi X', 'Bollywood Sundowner', 'House Party Hits', 'Tollywood Pearls', 'Punjabi Bae ❤️', 'Punjabi Pump', 'New Music Hindi', 'Punjabi 101', 'Starring Emraan Hashmi', 'Mega Punjabi Hits ', 'iconic indian songs 🎶', 'Trending Now India', 'Iconic Indian', 'Iconic Indian Songs', 'Bollywood mix by GAUV', 'Iconic Indians ', 'Iconic Indian stuff ', \"Trending Valentine's Hits \", 'Indie India ', 'Hot Hits Hindi', 'Bollywood Dance Music', 'Iconic Indian Songs 💕😅', 'Desi Hits', 'Alka Yagnik Living Legend', 'Indian Wedding Songs with | Iconic Bollywood touch|', 'RADAR India', 'Kolly Chill Out', 'Bollywood Acoustic', 'meri jaan meri jaan meri jaan ', '#GRWM Hindi', 'Gold Spot', 'I-Pop Superhits', 'Winter of Love', 'Chillnama', 'EQUAL India', 'Hot Hits Tamil', 'Allu Arjun Hits', 'Bollywood Bops', 'iconic bollywood songs', 'Old is Gold', 'indian songs from the stone age period', 'House Party Hits', 'Hot Hits India', 'New in Dance', 'Bollywood Sundowner', 'Kollywood Cream', 'Desi Hip-Hop', 'This Is Arijit Singh', 'Sangeet Night', 'Filmy Party', 'iconic bollywood', 'Tollywood Item', 'killer on da dance floor ', 'Indipop Nostalgia', '90s Swagger', 'Starring Emraan Hashmi', 'Indiana Jones: The Complete Adventures', 'Chai & Classics', 'Starring Shah Rukh Khan', 'Kollywood Themes', 'timeless: indian', 'Trending Now India', 'Timeless (Indian)', 'All Out 90s Hindi', 'Gold Spot', 'Indie India ', 'Saregama Carvaan ❤', 'Desi Hits', 'All Out 00s Hindi', 'Kolly Chill Out', 'Old is Gold', 'Chillnama', 'RADAR India', 'Chai & Classics', 'Indian Classical', 'hindi songs🌙', 'Bollywood Acoustic', 'Bollywood Dance Music', 'Timeless Anjali', 'Safar Mix', 'Folk in India', 'Indipop Nostalgia', 'Retro Bollywood (Roadtrip Collection)', 'Hindustani Instrumental', 'Hot Hits India', '90s Swagger', 'Lata Mangeshkar: Romantic', 'Punjabi Swag', \"60's Romance Hits\", 'Old is Gold - Bygone Bollywood Classics - Complete Collection', 'Gramophone Classics', 'India 101', 'रागिनी ', 'Raga Lounge', 'Bollywood Sundowner', 'Sing-along: Punjabi', 'Zindagi Anthems', 'Classical Gems', 'Sangeet Night', 'All Out 80s Hindi', 'Come on India', 'All time favourites ', 'Classic Safar Hits', 'Punjab Mail', 'Hindustani Classical', 'All Out 70s Hindi', 'Legends of Indie India', 'Lata Mangeshkar Forever', 'All Out 60s Hindi', 'All Out 70s Telugu', 'Trending Now India', 'Latest Popular DJ SONGS Hindi/Indian (2022)', 'South Indian Popular Songs', 'Popular Indian English Songs (Indian Artist) ', 'Popular (hindi) love', 'Indian Songs 2023 - Popular Indian Songs 2023 - Best Indian Songs 2023 - Famous Indian Songs 2023', 'Popular Indian Songs', 'english popular songs by indian', 'Most Popular Indian Music', 'Top Popular Indian Songs  ♪ ', 'Bollywood Chill', \"Tinder India's Hottest 100 Dating Anthems\", 'Gulzaar Chhaniwala All Songs', 'South Indian (popular)', 'Indian songs hindi playlist', 'Popular Movies- Indian', 'Sing Along (Hindi - Bollywood)', 'SANAM Renditions on Spotify', 'Yuvraj - Indian : New - Popular Songs & Musics', 'Hot Hits Hindi', 'Best Of Jagjit Singh Ghazals', 'bollywood item songs', 'Trending Now Tamil', 'Indie India ', \"Indian Remix's\", 'Desi Hits', 'Indian Songs 🇮🇳🛕', 'Regional Party Hits - Hindi Tamil Malayalam', 'RedisCover', 'I-Pop Superhits', 'Trending Now Punjabi', 'Bollywood Dance Music', 'RADAR India', 'Desi Indie ', 'Hot Hits India', 'Folk in India', 'I-Pop Mohabbat ', 'Top Gaming Tracks India', 'Indipop Nostalgia', 'mint India', 'I-Pop Tamil ', 'Top Hindi Tracks of 2021', 'Hot Hits India Presents Hottest Songs of 2021', 'Indian Classical', 'Legends of Indie India', \"Indian Spirit '23 Hype\", 'Bollywood Folk', 'India 101', 'Punjabi Pop Rising', 'Bollywood Ragas', 'Best of Indian Hits', 'The Best of Indie India 2022', 'Best of Indian Idol 13', 'Best of South Indian Melodies🥰', 'Indian Ocean — Best Of Indian Ocean', \"Indian DJ's best of\", 'Best of indian idol 2022', 'Desi Hits', 'Trending Now India', 'Best Of Alka Yagnik', 'Best Of Jagjit Singh Ghazals', 'Best of Raj Kapoor Hits', 'Best Of Bhupinder Singh', 'Best Of Bappi Lahiri', 'Best of Dev Anand Hits', 'Upendra all time hits', 'Best of Dharmendra Hits', 'Folk in India', 'Indie India ', 'Desi Hip Hop', 'IndiEnglish', 'Sitar - Best of', 'All Out 00s Hindi', 'RAP 91', 'Punjabi Pyar', 'All Out 10s Tamil', 'King Khan: The Best of SRK', 'RADAR India', 'Desi Indie ', 'Gold Spot', 'Bollywood Dance Music', '#GRWM Hindi', 'I-Pop Superhits', 'EDM in India', 'Buddha Bar - Best Of', 'Hot Hits India', 'Hot Hits India Presents Hottest Songs of 2021', 'Top Hindi Tracks of 2021', 'Top Gaming Tracks India', 'Indian Classical', 'mint India', 'India 101', 'Best Indie Songs of 2021', 'Come on India', 'Legends of Indie India', 'Bollywood 2.O', 'Chai & Classics', 'Indipop Nostalgia', 'Bollywood Ragas', 'Top International Artists of 2020', 'Hot Hits India', 'Trending Now India', 'Hot Hits Hindi', 'Indian hot songs 🎵 ♥', '2022 Indian Hits', 'Best Indian OTT Hits', 'Indian Hotlist', 'Indian Hot Hits', \"Tinder India's Hottest 100 Dating Anthems\", 'INDIAN HOT HITS 🔥', 'Hot Indian Songs ', \"Trending Valentine's Hits \", 'My Indian Hot Hits', 'Best Romantic Songs | Sad Hits | Bollywood Romantic Hits | Love Hits Forever ', 'Indie India ', 'Desi Hits', 'Desi TikTok Hits | Trending songs India', 'Web Series Hits', 'I-Pop Superhits', 'Punjabi hot party songs 2022 evergreen Indian dance songs', 'Hot Hits Telugu', 'Hot Hits Tamil', 'Kal Indian hot mix', 'Hot Hits Punjabi', 'Bollywood Item Songs | Hottest Hits', 'RADAR India', 'Hot Hits India Presents Hottest Songs of 2021', 'Hot Hits Kannada ', 'hIndies', 'Desi Hip Hop', 'Bollywood Dance Music', 'Hot Indian Hitsss', 'Hot Indian songs ', 'Hot Hits Malayalam', 'New in Dance', 'Hot indian songs', 'Hot gurl Indian summer ', 'Top Gaming Tracks India', 'Hot Girl Indian Summer 🍁', 'Hot 50', 'Dillihood', 'Bollywood Sundowner', 'Tollywood Item', \"WHO'S HOTT INDIANA\", 'Holi Ke Rang', 'Hot Bhangra', 'Chill Pills in The Indian Anthem', 'kumarao part 2', \"feel so hot cuz adi's side burns are growing\", 'Onda Indietrónica', 'Trending Now India', 'Hot Hits Hindi', \"Trending Valentine's Hits \", 'Trending Now Tamil', 'Hot Hits India', 'Hot Hits India Presents Hottest Songs of 2021', 'RADAR India', 'Trending Now Punjabi', 'Indie India ', 'Desi Hits', 'Hot Hits India Presents: Hottest Songs of 2020', 'Top Hindi Tracks of 2021', 'Top Gaming Tracks India', 'I-Pop Superhits', 'Hot Hits Punjabi', 'Hot Hits Telugu', 'RAP 91', 'All Out 00s Hindi', '#GRWM Hindi', 'Hot Hits Kannada ', 'Hot Hits Tamil', 'Desi Hip Hop', 'Punjabi Pop', 'hIndies', 'Bollywood Dance Music', 'Trending Now Malayalam', 'Indipop Nostalgia', 'Chillnama', 'Gold Spot', 'Come on India', 'India 101', 'New in Dance', 'EDM in India', 'Top International Artists of 2020', 'Punjabi X', 'I-Pop Tamil ', 'House Party Hits', 'Punjabi Bae ❤️', 'Top Telugu Tracks of 2019', 'Tollywood Pearls', 'Dillihood', 'Party Chale On', 'Tollywood Item', 'Punjabi 101', 'Bollywood 2.O', 'Starring Emraan Hashmi', 'Punjabi Gaming', 'New Music Hindi', 'This is Badshah', 'Mega Punjabi Hits ']\n"
     ]
    }
   ],
   "source": [
    "results = None\n",
    "playlist_name = []\n",
    "playlist_uri = []\n",
    "for i in indian_songs_keywords:\n",
    "    results = sp.search(q=i,type='playlist',limit=50)['playlists']['items']\n",
    "    for plays in results:\n",
    "        playlist_name.append(plays['name'])\n",
    "        playlist_uri.append(plays['uri'].split(':')[-1])\n",
    "    \n",
    "\n",
    "print(playlist_name)"
   ]
  },
  {
   "cell_type": "code",
   "execution_count": 51,
   "id": "e613f046",
   "metadata": {},
   "outputs": [],
   "source": [
    "#Creating a dataframe of indian playlists and their uri\n",
    "Hindi_playlist = pd.DataFrame(data ={'Playlist_Name':playlist_name,'uri':playlist_uri})"
   ]
  },
  {
   "cell_type": "code",
   "execution_count": 52,
   "id": "b68b6d39",
   "metadata": {},
   "outputs": [],
   "source": [
    "Hindi_playlist.drop_duplicates(inplace=True)"
   ]
  },
  {
   "cell_type": "code",
   "execution_count": 53,
   "id": "25ef5691",
   "metadata": {},
   "outputs": [
    {
     "data": {
      "text/html": [
       "<div>\n",
       "<style scoped>\n",
       "    .dataframe tbody tr th:only-of-type {\n",
       "        vertical-align: middle;\n",
       "    }\n",
       "\n",
       "    .dataframe tbody tr th {\n",
       "        vertical-align: top;\n",
       "    }\n",
       "\n",
       "    .dataframe thead th {\n",
       "        text-align: right;\n",
       "    }\n",
       "</style>\n",
       "<table border=\"1\" class=\"dataframe\">\n",
       "  <thead>\n",
       "    <tr style=\"text-align: right;\">\n",
       "      <th></th>\n",
       "      <th>Playlist_Name</th>\n",
       "      <th>uri</th>\n",
       "    </tr>\n",
       "  </thead>\n",
       "  <tbody>\n",
       "    <tr>\n",
       "      <th>0</th>\n",
       "      <td>Indian Music Mix</td>\n",
       "      <td>37i9dQZF1EIcSCN1cKi1G4</td>\n",
       "    </tr>\n",
       "    <tr>\n",
       "      <th>1</th>\n",
       "      <td>Soulful Indian Music</td>\n",
       "      <td>52Ay0K0fkc5o0HBDICYMgh</td>\n",
       "    </tr>\n",
       "    <tr>\n",
       "      <th>2</th>\n",
       "      <td>Trending Now India</td>\n",
       "      <td>37i9dQZF1DXbVhgADFy3im</td>\n",
       "    </tr>\n",
       "    <tr>\n",
       "      <th>3</th>\n",
       "      <td>Chill Indian Music</td>\n",
       "      <td>2K4OifUCz88qHZVbVEgM3l</td>\n",
       "    </tr>\n",
       "    <tr>\n",
       "      <th>4</th>\n",
       "      <td>Indian Classical Fusion Chill</td>\n",
       "      <td>5uQI18ikSfFgd8i0hkgQ1N</td>\n",
       "    </tr>\n",
       "    <tr>\n",
       "      <th>...</th>\n",
       "      <td>...</td>\n",
       "      <td>...</td>\n",
       "    </tr>\n",
       "    <tr>\n",
       "      <th>897</th>\n",
       "      <td>kumarao part 2</td>\n",
       "      <td>3M9tDNLQ9XJlhoK8YrqveB</td>\n",
       "    </tr>\n",
       "    <tr>\n",
       "      <th>898</th>\n",
       "      <td>feel so hot cuz adi's side burns are growing</td>\n",
       "      <td>3lcnFXFaVzrfXJqehlH3co</td>\n",
       "    </tr>\n",
       "    <tr>\n",
       "      <th>899</th>\n",
       "      <td>Onda Indietrónica</td>\n",
       "      <td>37i9dQZF1DX31cAExLdyNB</td>\n",
       "    </tr>\n",
       "    <tr>\n",
       "      <th>938</th>\n",
       "      <td>Top Telugu Tracks of 2019</td>\n",
       "      <td>37i9dQZF1DWUs3YnDlHYW8</td>\n",
       "    </tr>\n",
       "    <tr>\n",
       "      <th>946</th>\n",
       "      <td>Punjabi Gaming</td>\n",
       "      <td>37i9dQZF1DWYQhKSOD0Qas</td>\n",
       "    </tr>\n",
       "  </tbody>\n",
       "</table>\n",
       "<p>488 rows × 2 columns</p>\n",
       "</div>"
      ],
      "text/plain": [
       "                                    Playlist_Name                     uri\n",
       "0                                Indian Music Mix  37i9dQZF1EIcSCN1cKi1G4\n",
       "1                            Soulful Indian Music  52Ay0K0fkc5o0HBDICYMgh\n",
       "2                              Trending Now India  37i9dQZF1DXbVhgADFy3im\n",
       "3                              Chill Indian Music  2K4OifUCz88qHZVbVEgM3l\n",
       "4                   Indian Classical Fusion Chill  5uQI18ikSfFgd8i0hkgQ1N\n",
       "..                                            ...                     ...\n",
       "897                                kumarao part 2  3M9tDNLQ9XJlhoK8YrqveB\n",
       "898  feel so hot cuz adi's side burns are growing  3lcnFXFaVzrfXJqehlH3co\n",
       "899                             Onda Indietrónica  37i9dQZF1DX31cAExLdyNB\n",
       "938                     Top Telugu Tracks of 2019  37i9dQZF1DWUs3YnDlHYW8\n",
       "946                                Punjabi Gaming  37i9dQZF1DWYQhKSOD0Qas\n",
       "\n",
       "[488 rows x 2 columns]"
      ]
     },
     "execution_count": 53,
     "metadata": {},
     "output_type": "execute_result"
    }
   ],
   "source": [
    "Hindi_playlist"
   ]
  },
  {
   "cell_type": "code",
   "execution_count": 55,
   "id": "591b55b7",
   "metadata": {},
   "outputs": [],
   "source": [
    "results = None\n",
    "playlist_name_pun = []\n",
    "playlist_uri_pun = []\n",
    "for i in ['classical','pop','party']:\n",
    "    results = sp.search(q=i,type='playlist',limit=50)['playlists']['items']\n",
    "    for plays in results:\n",
    "        playlist_name_pun.append(plays['name'])\n",
    "        playlist_uri_pun.append(plays['uri'].split(':')[-1])\n",
    "    \n",
    "\n",
    "Punjabi_playlist = pd.DataFrame(data ={'Playlist_Name':playlist_name_pun,'uri':playlist_uri_pun})"
   ]
  },
  {
   "cell_type": "code",
   "execution_count": 56,
   "id": "205950dd",
   "metadata": {},
   "outputs": [],
   "source": [
    "Punjabi_playlist.drop_duplicates(inplace=True)"
   ]
  },
  {
   "cell_type": "code",
   "execution_count": 57,
   "id": "3cc6bce3",
   "metadata": {},
   "outputs": [
    {
     "data": {
      "text/html": [
       "<div>\n",
       "<style scoped>\n",
       "    .dataframe tbody tr th:only-of-type {\n",
       "        vertical-align: middle;\n",
       "    }\n",
       "\n",
       "    .dataframe tbody tr th {\n",
       "        vertical-align: top;\n",
       "    }\n",
       "\n",
       "    .dataframe thead th {\n",
       "        text-align: right;\n",
       "    }\n",
       "</style>\n",
       "<table border=\"1\" class=\"dataframe\">\n",
       "  <thead>\n",
       "    <tr style=\"text-align: right;\">\n",
       "      <th></th>\n",
       "      <th>Playlist_Name</th>\n",
       "      <th>uri</th>\n",
       "    </tr>\n",
       "  </thead>\n",
       "  <tbody>\n",
       "    <tr>\n",
       "      <th>0</th>\n",
       "      <td>classical bollywood</td>\n",
       "      <td>609HRXJAwpHV16eqgiJBlf</td>\n",
       "    </tr>\n",
       "    <tr>\n",
       "      <th>1</th>\n",
       "      <td>Semi Classical Bollywood</td>\n",
       "      <td>7d5XZHVPEHOMd0NDdbpNKA</td>\n",
       "    </tr>\n",
       "    <tr>\n",
       "      <th>2</th>\n",
       "      <td>classical dance practice</td>\n",
       "      <td>3RMX5Ie5HNDJJcnBIc4sTM</td>\n",
       "    </tr>\n",
       "    <tr>\n",
       "      <th>3</th>\n",
       "      <td>Indian classical songs</td>\n",
       "      <td>1usOsDF8Dc0wxXmzrFOG8X</td>\n",
       "    </tr>\n",
       "    <tr>\n",
       "      <th>4</th>\n",
       "      <td>Tamil Classical Songs</td>\n",
       "      <td>0vgV9L0LplgJwepc92JIjc</td>\n",
       "    </tr>\n",
       "    <tr>\n",
       "      <th>...</th>\n",
       "      <td>...</td>\n",
       "      <td>...</td>\n",
       "    </tr>\n",
       "    <tr>\n",
       "      <th>144</th>\n",
       "      <td>Party &amp; Gute Laune 🥳🎉</td>\n",
       "      <td>7ACyAnKNV6iCyGZiUhkn8T</td>\n",
       "    </tr>\n",
       "    <tr>\n",
       "      <th>145</th>\n",
       "      <td>Party👽✨</td>\n",
       "      <td>2jfwbGXF9K65Gcoxke9RBh</td>\n",
       "    </tr>\n",
       "    <tr>\n",
       "      <th>146</th>\n",
       "      <td>This Is PARTY HITS PROJECT</td>\n",
       "      <td>37i9dQZF1DZ06evO2wOWiO</td>\n",
       "    </tr>\n",
       "    <tr>\n",
       "      <th>147</th>\n",
       "      <td>Partyhymnen</td>\n",
       "      <td>37i9dQZF1DX9EM98aZosoy</td>\n",
       "    </tr>\n",
       "    <tr>\n",
       "      <th>148</th>\n",
       "      <td>This Is PARTY SOUND</td>\n",
       "      <td>37i9dQZF1DZ06evO2t9syc</td>\n",
       "    </tr>\n",
       "  </tbody>\n",
       "</table>\n",
       "<p>149 rows × 2 columns</p>\n",
       "</div>"
      ],
      "text/plain": [
       "                  Playlist_Name                     uri\n",
       "0           classical bollywood  609HRXJAwpHV16eqgiJBlf\n",
       "1      Semi Classical Bollywood  7d5XZHVPEHOMd0NDdbpNKA\n",
       "2     classical dance practice   3RMX5Ie5HNDJJcnBIc4sTM\n",
       "3        Indian classical songs  1usOsDF8Dc0wxXmzrFOG8X\n",
       "4         Tamil Classical Songs  0vgV9L0LplgJwepc92JIjc\n",
       "..                          ...                     ...\n",
       "144       Party & Gute Laune 🥳🎉  7ACyAnKNV6iCyGZiUhkn8T\n",
       "145                     Party👽✨  2jfwbGXF9K65Gcoxke9RBh\n",
       "146  This Is PARTY HITS PROJECT  37i9dQZF1DZ06evO2wOWiO\n",
       "147                 Partyhymnen  37i9dQZF1DX9EM98aZosoy\n",
       "148         This Is PARTY SOUND  37i9dQZF1DZ06evO2t9syc\n",
       "\n",
       "[149 rows x 2 columns]"
      ]
     },
     "execution_count": 57,
     "metadata": {},
     "output_type": "execute_result"
    }
   ],
   "source": [
    "Punjabi_playlist"
   ]
  },
  {
   "cell_type": "code",
   "execution_count": 59,
   "id": "063d18b4",
   "metadata": {},
   "outputs": [],
   "source": [
    "results = None\n",
    "playlist_name = []\n",
    "playlist_uri = []\n",
    "for i in ['Hollywood','Hollywood Pop','Hollywood party']:\n",
    "    results = sp.search(q=i,type='playlist',limit=50)['playlists']['items']\n",
    "    for plays in results:\n",
    "        playlist_name.append(plays['name'])\n",
    "        playlist_uri.append(plays['uri'].split(':')[-1])\n",
    "\n",
    "        \n",
    "\n",
    "Hollywood_playlists = pd.DataFrame(data ={'Playlist_Name':playlist_name,'uri':playlist_uri})"
   ]
  },
  {
   "cell_type": "code",
   "execution_count": 60,
   "id": "520cc504",
   "metadata": {},
   "outputs": [
    {
     "data": {
      "text/html": [
       "<div>\n",
       "<style scoped>\n",
       "    .dataframe tbody tr th:only-of-type {\n",
       "        vertical-align: middle;\n",
       "    }\n",
       "\n",
       "    .dataframe tbody tr th {\n",
       "        vertical-align: top;\n",
       "    }\n",
       "\n",
       "    .dataframe thead th {\n",
       "        text-align: right;\n",
       "    }\n",
       "</style>\n",
       "<table border=\"1\" class=\"dataframe\">\n",
       "  <thead>\n",
       "    <tr style=\"text-align: right;\">\n",
       "      <th></th>\n",
       "      <th>Playlist_Name</th>\n",
       "      <th>uri</th>\n",
       "    </tr>\n",
       "  </thead>\n",
       "  <tbody>\n",
       "    <tr>\n",
       "      <th>0</th>\n",
       "      <td>hollywood hits songs</td>\n",
       "      <td>3RBI6pBx9L7RkGcBRMOqRG</td>\n",
       "    </tr>\n",
       "    <tr>\n",
       "      <th>1</th>\n",
       "      <td>( Bollywood x Hollywood Mashups) 😍</td>\n",
       "      <td>0eUCiR6oVq6uKUplhL6nEY</td>\n",
       "    </tr>\n",
       "    <tr>\n",
       "      <th>2</th>\n",
       "      <td>Popular Hollywood songs</td>\n",
       "      <td>44j7hYaG0v6DEh9egqVWzw</td>\n",
       "    </tr>\n",
       "    <tr>\n",
       "      <th>3</th>\n",
       "      <td>Top HOLLYWOOD Hits🎶</td>\n",
       "      <td>422YnmjAohwxesTyEewrvZ</td>\n",
       "    </tr>\n",
       "    <tr>\n",
       "      <th>4</th>\n",
       "      <td>English lofi songs ,Hollywood</td>\n",
       "      <td>44Nmv6KxRCyKSjm1JYpAhz</td>\n",
       "    </tr>\n",
       "    <tr>\n",
       "      <th>...</th>\n",
       "      <td>...</td>\n",
       "      <td>...</td>\n",
       "    </tr>\n",
       "    <tr>\n",
       "      <th>144</th>\n",
       "      <td>old hollywood birthday party🥂</td>\n",
       "      <td>0cIqWmLkqFRbyvqDBzOHXO</td>\n",
       "    </tr>\n",
       "    <tr>\n",
       "      <th>145</th>\n",
       "      <td>Hollywood</td>\n",
       "      <td>1SSibDf97C46V7EGAat7uc</td>\n",
       "    </tr>\n",
       "    <tr>\n",
       "      <th>146</th>\n",
       "      <td>Stoned in Hollywood</td>\n",
       "      <td>6cZpgkO5LccLKbkN93KPQI</td>\n",
       "    </tr>\n",
       "    <tr>\n",
       "      <th>147</th>\n",
       "      <td>F45 Training Cardio Party</td>\n",
       "      <td>3PY99wDRjpUe3WtR7gMMeR</td>\n",
       "    </tr>\n",
       "    <tr>\n",
       "      <th>148</th>\n",
       "      <td>Pride Playlist 2022 by Hollywood Tramp</td>\n",
       "      <td>2iXiOgnm4qCPes17ma2A1S</td>\n",
       "    </tr>\n",
       "  </tbody>\n",
       "</table>\n",
       "<p>149 rows × 2 columns</p>\n",
       "</div>"
      ],
      "text/plain": [
       "                              Playlist_Name                     uri\n",
       "0                      hollywood hits songs  3RBI6pBx9L7RkGcBRMOqRG\n",
       "1        ( Bollywood x Hollywood Mashups) 😍  0eUCiR6oVq6uKUplhL6nEY\n",
       "2                   Popular Hollywood songs  44j7hYaG0v6DEh9egqVWzw\n",
       "3                       Top HOLLYWOOD Hits🎶  422YnmjAohwxesTyEewrvZ\n",
       "4            English lofi songs ,Hollywood   44Nmv6KxRCyKSjm1JYpAhz\n",
       "..                                      ...                     ...\n",
       "144           old hollywood birthday party🥂  0cIqWmLkqFRbyvqDBzOHXO\n",
       "145                               Hollywood  1SSibDf97C46V7EGAat7uc\n",
       "146                     Stoned in Hollywood  6cZpgkO5LccLKbkN93KPQI\n",
       "147               F45 Training Cardio Party  3PY99wDRjpUe3WtR7gMMeR\n",
       "148  Pride Playlist 2022 by Hollywood Tramp  2iXiOgnm4qCPes17ma2A1S\n",
       "\n",
       "[149 rows x 2 columns]"
      ]
     },
     "execution_count": 60,
     "metadata": {},
     "output_type": "execute_result"
    }
   ],
   "source": [
    "Hollywood_playlists"
   ]
  },
  {
   "cell_type": "code",
   "execution_count": 61,
   "id": "21f96407",
   "metadata": {},
   "outputs": [],
   "source": [
    "Final_list = pd.concat([Hindi_playlist,Hollywood_playlists,Punjabi_playlist])"
   ]
  },
  {
   "cell_type": "code",
   "execution_count": 63,
   "id": "daa86c6c",
   "metadata": {},
   "outputs": [],
   "source": [
    "Final_list.drop_duplicates(inplace=True)"
   ]
  },
  {
   "cell_type": "code",
   "execution_count": 68,
   "id": "e620de1d",
   "metadata": {},
   "outputs": [],
   "source": [
    "Final_list.to_csv('Playlist_uri.csv',index=False)"
   ]
  },
  {
   "cell_type": "code",
   "execution_count": 66,
   "id": "f21fd847",
   "metadata": {},
   "outputs": [
    {
     "data": {
      "text/plain": [
       "11100"
      ]
     },
     "execution_count": 66,
     "metadata": {},
     "output_type": "execute_result"
    }
   ],
   "source": [
    "740*15"
   ]
  },
  {
   "cell_type": "markdown",
   "id": "9867c407",
   "metadata": {},
   "source": [
    "## Approach II"
   ]
  },
  {
   "cell_type": "code",
   "execution_count": 42,
   "id": "729537d1",
   "metadata": {},
   "outputs": [
    {
     "name": "stdout",
     "output_type": "stream",
     "text": [
      "1000\n"
     ]
    }
   ],
   "source": [
    "bollywood_songs = []\n",
    "limit = 50\n",
    "offset = 0\n",
    "x = None\n",
    "while len(bollywood_songs)<500:\n",
    "    x= sp.search(q='Bollywood',limit=limit,offset=offset,type='track')['tracks']['items']\n",
    "    bollywood_songs.extend(x)\n",
    "    offset+=limit\n",
    "\n",
    "print(len(bollywood_songs))"
   ]
  },
  {
   "cell_type": "code",
   "execution_count": 36,
   "id": "f96bbf6c",
   "metadata": {},
   "outputs": [],
   "source": [
    "x = sp.search(q='Hindi latest',limit=10,offset=0,type='track')"
   ]
  },
  {
   "cell_type": "code",
   "execution_count": 37,
   "id": "0259fa2a",
   "metadata": {},
   "outputs": [
    {
     "name": "stdout",
     "output_type": "stream",
     "text": [
      "dict_keys(['href', 'items', 'limit', 'next', 'offset', 'previous', 'total'])\n"
     ]
    }
   ],
   "source": [
    "print(x['tracks'].keys())"
   ]
  },
  {
   "cell_type": "code",
   "execution_count": 38,
   "id": "c322758f",
   "metadata": {},
   "outputs": [
    {
     "name": "stdout",
     "output_type": "stream",
     "text": [
      "<class 'list'>\n"
     ]
    }
   ],
   "source": [
    "print(type(x['tracks']['items']))"
   ]
  },
  {
   "cell_type": "code",
   "execution_count": 39,
   "id": "44b095f5",
   "metadata": {},
   "outputs": [
    {
     "name": "stdout",
     "output_type": "stream",
     "text": [
      "Pritam Kesariya (From \"Brahmastra\") track\n",
      "Sachet Tandon Takdaa Rawaan track\n",
      "Tanishk Bagchi Raataan Lambiyan (From \"Shershaah\") track\n",
      "Yogesh Mintoo Latest Bollywood Song 2022 | Romantic Hindi Song 2022 | Ehsaas | Yogesh Mintoo | DK Darvesh track\n",
      "Guri Teri Galiyon Mein track\n",
      "S. P. Balasubrahmanyam Swapnavevedo track\n",
      "Bhanu Bhardwaj DIL Latest hindi song 2022 track\n",
      "Pritam Raabta track\n",
      "Ketaki Bhave Joshi Shri Kali Mata Chalisa track\n",
      "Ketan Patwardhan Saraswati Mantra track\n"
     ]
    }
   ],
   "source": [
    "for i in x['tracks']['items']:\n",
    "    print(i['artists'][0]['name'],i['name'],i['type'])"
   ]
  },
  {
   "cell_type": "code",
   "execution_count": 20,
   "id": "2f01ff0a",
   "metadata": {},
   "outputs": [
    {
     "name": "stdout",
     "output_type": "stream",
     "text": [
      "a\n",
      "b\n",
      "c\n"
     ]
    }
   ],
   "source": [
    "d = {'a': 1, 'b': 2, 'c': 3}\n",
    "\n",
    "for i in d:\n",
    "    print(i)"
   ]
  },
  {
   "cell_type": "code",
   "execution_count": 22,
   "id": "dec04ea9",
   "metadata": {},
   "outputs": [
    {
     "name": "stdout",
     "output_type": "stream",
     "text": [
      "{'album': {'album_type': 'single', 'artists': [{'external_urls': {'spotify': 'https://open.spotify.com/artist/0LyfQWJT6nXafLPZqxe9Of'}, 'href': 'https://api.spotify.com/v1/artists/0LyfQWJT6nXafLPZqxe9Of', 'id': '0LyfQWJT6nXafLPZqxe9Of', 'name': 'Various Artists', 'type': 'artist', 'uri': 'spotify:artist:0LyfQWJT6nXafLPZqxe9Of'}], 'available_markets': ['AD', 'AE', 'AG', 'AL', 'AM', 'AO', 'AR', 'AT', 'AU', 'AZ', 'BA', 'BB', 'BD', 'BE', 'BF', 'BG', 'BH', 'BI', 'BJ', 'BN', 'BO', 'BR', 'BS', 'BT', 'BW', 'BY', 'BZ', 'CA', 'CD', 'CG', 'CH', 'CI', 'CL', 'CM', 'CO', 'CR', 'CV', 'CW', 'CY', 'CZ', 'DE', 'DJ', 'DK', 'DM', 'DO', 'DZ', 'EC', 'EE', 'EG', 'ES', 'ET', 'FI', 'FJ', 'FM', 'FR', 'GA', 'GB', 'GD', 'GE', 'GH', 'GM', 'GN', 'GQ', 'GR', 'GT', 'GW', 'GY', 'HK', 'HN', 'HR', 'HT', 'HU', 'ID', 'IE', 'IL', 'IN', 'IQ', 'IS', 'IT', 'JM', 'JO', 'JP', 'KE', 'KG', 'KH', 'KI', 'KM', 'KN', 'KR', 'KW', 'KZ', 'LA', 'LB', 'LC', 'LI', 'LK', 'LR', 'LS', 'LT', 'LU', 'LV', 'LY', 'MA', 'MC', 'MD', 'ME', 'MG', 'MH', 'MK', 'ML', 'MN', 'MO', 'MR', 'MT', 'MU', 'MV', 'MW', 'MX', 'MY', 'MZ', 'NA', 'NE', 'NG', 'NI', 'NL', 'NO', 'NP', 'NR', 'NZ', 'OM', 'PA', 'PE', 'PG', 'PH', 'PK', 'PL', 'PS', 'PT', 'PW', 'PY', 'QA', 'RO', 'RS', 'RW', 'SA', 'SB', 'SC', 'SE', 'SG', 'SI', 'SK', 'SL', 'SM', 'SN', 'SR', 'ST', 'SV', 'SZ', 'TD', 'TG', 'TH', 'TJ', 'TL', 'TN', 'TO', 'TR', 'TT', 'TV', 'TW', 'TZ', 'UA', 'UG', 'US', 'UY', 'UZ', 'VC', 'VE', 'VN', 'VU', 'WS', 'XK', 'ZA', 'ZM', 'ZW'], 'external_urls': {'spotify': 'https://open.spotify.com/album/7bc35yaQpIHqlRxRqZQx2c'}, 'href': 'https://api.spotify.com/v1/albums/7bc35yaQpIHqlRxRqZQx2c', 'id': '7bc35yaQpIHqlRxRqZQx2c', 'images': [{'height': 640, 'url': 'https://i.scdn.co/image/ab67616d0000b273cc26f4cc18289f8cf8b44410', 'width': 640}, {'height': 300, 'url': 'https://i.scdn.co/image/ab67616d00001e02cc26f4cc18289f8cf8b44410', 'width': 300}, {'height': 64, 'url': 'https://i.scdn.co/image/ab67616d00004851cc26f4cc18289f8cf8b44410', 'width': 64}], 'name': 'Party Mashup (By DJ NYK)', 'release_date': '2021-05-07', 'release_date_precision': 'day', 'total_tracks': 1, 'type': 'album', 'uri': 'spotify:album:7bc35yaQpIHqlRxRqZQx2c'}, 'artists': [{'external_urls': {'spotify': 'https://open.spotify.com/artist/6tTBTKIvckFAIzxeNAvnnF'}, 'href': 'https://api.spotify.com/v1/artists/6tTBTKIvckFAIzxeNAvnnF', 'id': '6tTBTKIvckFAIzxeNAvnnF', 'name': 'DJ Nyk', 'type': 'artist', 'uri': 'spotify:artist:6tTBTKIvckFAIzxeNAvnnF'}, {'external_urls': {'spotify': 'https://open.spotify.com/artist/0y59o4v8uw5crbN9M3JiL1'}, 'href': 'https://api.spotify.com/v1/artists/0y59o4v8uw5crbN9M3JiL1', 'id': '0y59o4v8uw5crbN9M3JiL1', 'name': 'Badshah', 'type': 'artist', 'uri': 'spotify:artist:0y59o4v8uw5crbN9M3JiL1'}, {'external_urls': {'spotify': 'https://open.spotify.com/artist/1mBydYMVBECdDmMfE2sEUO'}, 'href': 'https://api.spotify.com/v1/artists/1mBydYMVBECdDmMfE2sEUO', 'id': '1mBydYMVBECdDmMfE2sEUO', 'name': 'Sachin-Jigar', 'type': 'artist', 'uri': 'spotify:artist:1mBydYMVBECdDmMfE2sEUO'}, {'external_urls': {'spotify': 'https://open.spotify.com/artist/4mRPyvdSBxARQIFeXXM13s'}, 'href': 'https://api.spotify.com/v1/artists/4mRPyvdSBxARQIFeXXM13s', 'id': '4mRPyvdSBxARQIFeXXM13s', 'name': 'AKASA', 'type': 'artist', 'uri': 'spotify:artist:4mRPyvdSBxARQIFeXXM13s'}, {'external_urls': {'spotify': 'https://open.spotify.com/artist/15UQcr22jcc6DJjy3sLv3J'}, 'href': 'https://api.spotify.com/v1/artists/15UQcr22jcc6DJjy3sLv3J', 'id': '15UQcr22jcc6DJjy3sLv3J', 'name': 'Rashmeet Kaur', 'type': 'artist', 'uri': 'spotify:artist:15UQcr22jcc6DJjy3sLv3J'}, {'external_urls': {'spotify': 'https://open.spotify.com/artist/1sVmXkzX2ukc6QvasrDBES'}, 'href': 'https://api.spotify.com/v1/artists/1sVmXkzX2ukc6QvasrDBES', 'id': '1sVmXkzX2ukc6QvasrDBES', 'name': 'Asees Kaur', 'type': 'artist', 'uri': 'spotify:artist:1sVmXkzX2ukc6QvasrDBES'}, {'external_urls': {'spotify': 'https://open.spotify.com/artist/6SZBqn91m2QZDcbzmHUFPP'}, 'href': 'https://api.spotify.com/v1/artists/6SZBqn91m2QZDcbzmHUFPP', 'id': '6SZBqn91m2QZDcbzmHUFPP', 'name': 'Shamur', 'type': 'artist', 'uri': 'spotify:artist:6SZBqn91m2QZDcbzmHUFPP'}], 'available_markets': ['AD', 'AE', 'AG', 'AL', 'AM', 'AO', 'AR', 'AT', 'AU', 'AZ', 'BA', 'BB', 'BD', 'BE', 'BF', 'BG', 'BH', 'BI', 'BJ', 'BN', 'BO', 'BR', 'BS', 'BT', 'BW', 'BY', 'BZ', 'CA', 'CD', 'CG', 'CH', 'CI', 'CL', 'CM', 'CO', 'CR', 'CV', 'CW', 'CY', 'CZ', 'DE', 'DJ', 'DK', 'DM', 'DO', 'DZ', 'EC', 'EE', 'EG', 'ES', 'ET', 'FI', 'FJ', 'FM', 'FR', 'GA', 'GB', 'GD', 'GE', 'GH', 'GM', 'GN', 'GQ', 'GR', 'GT', 'GW', 'GY', 'HK', 'HN', 'HR', 'HT', 'HU', 'ID', 'IE', 'IL', 'IN', 'IQ', 'IS', 'IT', 'JM', 'JO', 'JP', 'KE', 'KG', 'KH', 'KI', 'KM', 'KN', 'KR', 'KW', 'KZ', 'LA', 'LB', 'LC', 'LI', 'LK', 'LR', 'LS', 'LT', 'LU', 'LV', 'LY', 'MA', 'MC', 'MD', 'ME', 'MG', 'MH', 'MK', 'ML', 'MN', 'MO', 'MR', 'MT', 'MU', 'MV', 'MW', 'MX', 'MY', 'MZ', 'NA', 'NE', 'NG', 'NI', 'NL', 'NO', 'NP', 'NR', 'NZ', 'OM', 'PA', 'PE', 'PG', 'PH', 'PK', 'PL', 'PS', 'PT', 'PW', 'PY', 'QA', 'RO', 'RS', 'RW', 'SA', 'SB', 'SC', 'SE', 'SG', 'SI', 'SK', 'SL', 'SM', 'SN', 'SR', 'ST', 'SV', 'SZ', 'TD', 'TG', 'TH', 'TJ', 'TL', 'TN', 'TO', 'TR', 'TT', 'TV', 'TW', 'TZ', 'UA', 'UG', 'US', 'UY', 'UZ', 'VC', 'VE', 'VN', 'VU', 'WS', 'XK', 'ZA', 'ZM', 'ZW'], 'disc_number': 1, 'duration_ms': 192452, 'explicit': False, 'external_ids': {'isrc': 'INS172101765'}, 'external_urls': {'spotify': 'https://open.spotify.com/track/3S5btcqb0ERiMhHJnX3vq7'}, 'href': 'https://api.spotify.com/v1/tracks/3S5btcqb0ERiMhHJnX3vq7', 'id': '3S5btcqb0ERiMhHJnX3vq7', 'is_local': False, 'name': 'Party Mashup - By DJ NYK', 'popularity': 41, 'preview_url': 'https://p.scdn.co/mp3-preview/1be16f4251d369938064ee3ff2f43d9f385f0dcc?cid=f747fb51b516440b8c6ced2c1ee959d8', 'track_number': 1, 'type': 'track', 'uri': 'spotify:track:3S5btcqb0ERiMhHJnX3vq7'}\n"
     ]
    }
   ],
   "source": [
    "print(x['tracks']['items'][0])"
   ]
  },
  {
   "cell_type": "code",
   "execution_count": 51,
   "id": "3d5da139",
   "metadata": {},
   "outputs": [
    {
     "name": "stdout",
     "output_type": "stream",
     "text": [
      "Zara Zara - Lofi\n",
      "Buddhu Sa Mann\n",
      "Bollywood\n",
      "Bollywood\n",
      "Subha Hone Na De\n",
      "Party Mashup - By DJ NYK\n",
      "BOLLYWOOD ROMANTIC MASHUP\n",
      "Bollywood Nonstop 2022\n",
      "Desi Girl\n",
      "Bollywood\n",
      "Tera Ban Jaunga (From \"Kabir Singh\")\n",
      "Bijli\n",
      "Nonstop Party Mix 2021 Mashup\n",
      "Jab Koi Baat Bigad Jaye (From \"Jurm\")\n",
      "Bhool Bhulaiyaa\n",
      "Chura Ke Dil Mera (From \"Main Khiladi Tu Anari\")\n",
      "Chaiyya Chaiyya (From \"Dil Se\")\n",
      "Bollywood Nonstop Dandiya 2022\n",
      "Deedar De (From \"Chhalaang\")\n",
      "Ae Dil Hai Mushkil - Instrumental\n",
      "Current Laga Re (From \"Cirkus\")\n",
      "BOLLYWOOD MASHUP\n",
      "Bollywood Party Mashup\n",
      "Munda Sona Hoon Main (From \"Shehzada\")\n",
      "Aisi Deewangi (From \"Deewana\")\n",
      "Ek Din Aap (From \"Yes Boss\")\n",
      "Bindiya Chamkegi - Farooq Got Audio Mix\n",
      "Bollywood Party\n",
      "Bahut Jatate Ho Pyar (From \"Aadmi Khilona Hai\")\n",
      "Bollywood\n",
      "Koi Kahe Kehta Rahe\n",
      "Bollywood Medley (Series 4)\n",
      "Mera Dil Bhi Kitna Pagal Hai (From \"Saajan\")\n",
      "Bollywood Flashback Mashup - Remix\n",
      "Bollywood Party Mashup 2020\n",
      "Sochenge Tumhe Pyar (From \"Deewana\")\n",
      "Chhupana Bhi Nahin Aata (From \"Baazigar\")\n",
      "Masat Magan\n",
      "Bulleya (From \"Ae Dil Hai Mushkil\")\n",
      "Bollywood Club Mix : Pyaar Aaya / Maahi Ve / Aap Ki Kashish / Saaki Saaki / Dilnashin Dilnashin / Dum Dum\n",
      "Raja Ko Rani Se (From \"Akele Hum Akele Tum\")\n",
      "Dil Jab Se Toot Gaya (From \"Salaami\")\n",
      "Kitna Haseen Chehra (From \"Dilwale\")\n",
      "Pyar Manga Hai Tumhi Se - Unwind Instrumental\n",
      "Koi Na Koi Chahiye (From \"Deewana\")\n",
      "Bollywood Balaraju\n",
      "Chhupana Bhi Nahin Aata Vinod Rathod (From \"Baazigar\")\n",
      "Pal Pal Dil Ke Paas - Unwind Instrumental\n",
      "Wada Karo - Unwind Instrumental\n",
      "Chhukar Mere Man Ko - Unwind Instrumental\n"
     ]
    }
   ],
   "source": [
    "ctr=0\n",
    "for i in bollywood_songs:\n",
    "    print(i['name'])\n",
    "    ctr+=1\n",
    "    if ctr==50:\n",
    "        break"
   ]
  },
  {
   "cell_type": "code",
   "execution_count": 3,
   "id": "23f7a481",
   "metadata": {},
   "outputs": [],
   "source": [
    "d  =sp.search(q='Kesariya',type='track')"
   ]
  },
  {
   "cell_type": "code",
   "execution_count": 4,
   "id": "457e9336",
   "metadata": {},
   "outputs": [
    {
     "data": {
      "text/plain": [
       "dict"
      ]
     },
     "execution_count": 4,
     "metadata": {},
     "output_type": "execute_result"
    }
   ],
   "source": [
    "type(d)"
   ]
  },
  {
   "cell_type": "code",
   "execution_count": 5,
   "id": "d89b3aca",
   "metadata": {},
   "outputs": [
    {
     "data": {
      "text/plain": [
       "dict_keys(['tracks'])"
      ]
     },
     "execution_count": 5,
     "metadata": {},
     "output_type": "execute_result"
    }
   ],
   "source": [
    "d.keys()"
   ]
  },
  {
   "cell_type": "code",
   "execution_count": 10,
   "id": "d51ca5f5",
   "metadata": {},
   "outputs": [
    {
     "data": {
      "text/plain": [
       "list"
      ]
     },
     "execution_count": 10,
     "metadata": {},
     "output_type": "execute_result"
    }
   ],
   "source": [
    "type(d['tracks']['items'])"
   ]
  },
  {
   "cell_type": "code",
   "execution_count": 14,
   "id": "41ccea27",
   "metadata": {},
   "outputs": [
    {
     "name": "stdout",
     "output_type": "stream",
     "text": [
      "Kesariya (From \"Brahmastra\") Kesariya (From \"Brahmastra\")\n",
      "Pasoori Pasoori\n",
      "Kesariya - Dance Mix Brahmastra (Original Motion Picture Soundtrack)\n",
      "Deva Deva (From \"Brahmastra\") Deva Deva (From \"Brahmastra\")\n",
      "Kesariya - Lofi Flip Kesariya (Lofi Flip)\n",
      "Kesariya Brahmastra (Original Motion Picture Soundtrack)\n",
      "Kesariya (From \"Brahmastra\") - Dance Mix Kesariya (Dance Mix) [From \"Brahmastra\"]\n",
      "Kesariya Audio Teaser (From \"Brahmastra\") Kesariya Audio Teaser (From \"Brahmastra\")\n",
      "Kesariya - Punjabi Female Version Kesariya (Punjabi Female Version)\n",
      "Kesariya Rangu (From \"Brahmastra (Kannada)\") Kesariya Rangu [From \"Brahmastra (Kannada)\"]\n"
     ]
    }
   ],
   "source": [
    "for i in d['tracks']['items']:\n",
    "    print(i['name'],i['album']['name'])"
   ]
  },
  {
   "cell_type": "code",
   "execution_count": null,
   "id": "1434bc35",
   "metadata": {},
   "outputs": [],
   "source": [
    "Track,id,album,singer,popularity,"
   ]
  },
  {
   "cell_type": "code",
   "execution_count": 15,
   "id": "3e83b330",
   "metadata": {},
   "outputs": [],
   "source": [
    "playlist_dataset = pd.read_csv('Playlist_uri.csv')"
   ]
  },
  {
   "cell_type": "code",
   "execution_count": 16,
   "id": "ac9f6ae7",
   "metadata": {},
   "outputs": [
    {
     "data": {
      "text/html": [
       "<div>\n",
       "<style scoped>\n",
       "    .dataframe tbody tr th:only-of-type {\n",
       "        vertical-align: middle;\n",
       "    }\n",
       "\n",
       "    .dataframe tbody tr th {\n",
       "        vertical-align: top;\n",
       "    }\n",
       "\n",
       "    .dataframe thead th {\n",
       "        text-align: right;\n",
       "    }\n",
       "</style>\n",
       "<table border=\"1\" class=\"dataframe\">\n",
       "  <thead>\n",
       "    <tr style=\"text-align: right;\">\n",
       "      <th></th>\n",
       "      <th>Playlist_Name</th>\n",
       "      <th>uri</th>\n",
       "    </tr>\n",
       "  </thead>\n",
       "  <tbody>\n",
       "    <tr>\n",
       "      <th>0</th>\n",
       "      <td>Indian Music Mix</td>\n",
       "      <td>37i9dQZF1EIcSCN1cKi1G4</td>\n",
       "    </tr>\n",
       "    <tr>\n",
       "      <th>1</th>\n",
       "      <td>Soulful Indian Music</td>\n",
       "      <td>52Ay0K0fkc5o0HBDICYMgh</td>\n",
       "    </tr>\n",
       "    <tr>\n",
       "      <th>2</th>\n",
       "      <td>Trending Now India</td>\n",
       "      <td>37i9dQZF1DXbVhgADFy3im</td>\n",
       "    </tr>\n",
       "    <tr>\n",
       "      <th>3</th>\n",
       "      <td>Chill Indian Music</td>\n",
       "      <td>2K4OifUCz88qHZVbVEgM3l</td>\n",
       "    </tr>\n",
       "    <tr>\n",
       "      <th>4</th>\n",
       "      <td>Indian Classical Fusion Chill</td>\n",
       "      <td>5uQI18ikSfFgd8i0hkgQ1N</td>\n",
       "    </tr>\n",
       "    <tr>\n",
       "      <th>...</th>\n",
       "      <td>...</td>\n",
       "      <td>...</td>\n",
       "    </tr>\n",
       "    <tr>\n",
       "      <th>734</th>\n",
       "      <td>Party &amp; Gute Laune 🥳🎉</td>\n",
       "      <td>7ACyAnKNV6iCyGZiUhkn8T</td>\n",
       "    </tr>\n",
       "    <tr>\n",
       "      <th>735</th>\n",
       "      <td>Party👽✨</td>\n",
       "      <td>2jfwbGXF9K65Gcoxke9RBh</td>\n",
       "    </tr>\n",
       "    <tr>\n",
       "      <th>736</th>\n",
       "      <td>This Is PARTY HITS PROJECT</td>\n",
       "      <td>37i9dQZF1DZ06evO2wOWiO</td>\n",
       "    </tr>\n",
       "    <tr>\n",
       "      <th>737</th>\n",
       "      <td>Partyhymnen</td>\n",
       "      <td>37i9dQZF1DX9EM98aZosoy</td>\n",
       "    </tr>\n",
       "    <tr>\n",
       "      <th>738</th>\n",
       "      <td>This Is PARTY SOUND</td>\n",
       "      <td>37i9dQZF1DZ06evO2t9syc</td>\n",
       "    </tr>\n",
       "  </tbody>\n",
       "</table>\n",
       "<p>739 rows × 2 columns</p>\n",
       "</div>"
      ],
      "text/plain": [
       "                     Playlist_Name                     uri\n",
       "0                 Indian Music Mix  37i9dQZF1EIcSCN1cKi1G4\n",
       "1             Soulful Indian Music  52Ay0K0fkc5o0HBDICYMgh\n",
       "2               Trending Now India  37i9dQZF1DXbVhgADFy3im\n",
       "3               Chill Indian Music  2K4OifUCz88qHZVbVEgM3l\n",
       "4    Indian Classical Fusion Chill  5uQI18ikSfFgd8i0hkgQ1N\n",
       "..                             ...                     ...\n",
       "734          Party & Gute Laune 🥳🎉  7ACyAnKNV6iCyGZiUhkn8T\n",
       "735                        Party👽✨  2jfwbGXF9K65Gcoxke9RBh\n",
       "736     This Is PARTY HITS PROJECT  37i9dQZF1DZ06evO2wOWiO\n",
       "737                    Partyhymnen  37i9dQZF1DX9EM98aZosoy\n",
       "738            This Is PARTY SOUND  37i9dQZF1DZ06evO2t9syc\n",
       "\n",
       "[739 rows x 2 columns]"
      ]
     },
     "execution_count": 16,
     "metadata": {},
     "output_type": "execute_result"
    }
   ],
   "source": [
    "playlist_dataset"
   ]
  },
  {
   "cell_type": "code",
   "execution_count": 18,
   "id": "87637313",
   "metadata": {},
   "outputs": [
    {
     "data": {
      "text/plain": [
       "11100"
      ]
     },
     "execution_count": 18,
     "metadata": {},
     "output_type": "execute_result"
    }
   ],
   "source": [
    "740*15"
   ]
  },
  {
   "cell_type": "code",
   "execution_count": null,
   "id": "894fbe27",
   "metadata": {},
   "outputs": [],
   "source": []
  }
 ],
 "metadata": {
  "kernelspec": {
   "display_name": "Python 3 (ipykernel)",
   "language": "python",
   "name": "python3"
  },
  "language_info": {
   "codemirror_mode": {
    "name": "ipython",
    "version": 3
   },
   "file_extension": ".py",
   "mimetype": "text/x-python",
   "name": "python",
   "nbconvert_exporter": "python",
   "pygments_lexer": "ipython3",
   "version": "3.9.13"
  }
 },
 "nbformat": 4,
 "nbformat_minor": 5
}
